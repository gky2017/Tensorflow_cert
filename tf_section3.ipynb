{
 "cells": [
  {
   "cell_type": "code",
   "execution_count": 79,
   "id": "e820e856",
   "metadata": {},
   "outputs": [],
   "source": [
    "import tensorflow as tf\n",
    "import numpy as np\n",
    "import matplotlib.pyplot as plt\n",
    "\n",
    "import warnings\n",
    "warnings.filterwarnings(action='ignore')"
   ]
  },
  {
   "cell_type": "markdown",
   "id": "a09073e8",
   "metadata": {},
   "source": [
    "# Creating sample regression data\n",
    "\n",
    "    Introdction to Regression with NN in tensorflow"
   ]
  },
  {
   "cell_type": "code",
   "execution_count": 48,
   "id": "add3d62e",
   "metadata": {},
   "outputs": [
    {
     "data": {
      "text/plain": [
       "<matplotlib.collections.PathCollection at 0x17dbb2790>"
      ]
     },
     "execution_count": 48,
     "metadata": {},
     "output_type": "execute_result"
    },
    {
     "data": {
      "image/png": "[encoded data removed]",
      "text/plain": [
       "<Figure size 432x288 with 1 Axes>"
      ]
     },
     "metadata": {
      "needs_background": "light"
     },
     "output_type": "display_data"
    }
   ],
   "source": [
    "# Create features\n",
    "x = np.array([-7.0, -4.0, -1.0, 2.0, 5.0, 8.0, 11.0, 14.0])\n",
    "# Create labels\n",
    "y = np.array([3.0, 6.0, 9.0, 12.0, 15.0, 18.0, 21.0, 24.0])\n",
    "\n",
    "# Visulaize it\n",
    "plt.scatter(x,y)"
   ]
  },
  {
   "cell_type": "code",
   "execution_count": null,
   "id": "2dfca31e",
   "metadata": {},
   "outputs": [],
   "source": []
  },
  {
   "cell_type": "code",
   "execution_count": 10,
   "id": "881017fa",
   "metadata": {},
   "outputs": [
    {
     "data": {
      "text/plain": [
       "(<tf.Tensor: shape=(3,), dtype=string, numpy=array([b'bedroom', b'bathroom', b'garage'], dtype=object)>,\n",
       " <tf.Tensor: shape=(1,), dtype=int32, numpy=array([939700], dtype=int32)>)"
      ]
     },
     "execution_count": 10,
     "metadata": {},
     "output_type": "execute_result"
    }
   ],
   "source": [
    "# Create a demo tensor for out housing privce prediction problem\n",
    "house_info = tf.constant(['bedroom', 'bathroom', 'garage'])\n",
    "house_price = tf.constant([939700])\n",
    "\n",
    "house_info, house_price"
   ]
  },
  {
   "cell_type": "code",
   "execution_count": 12,
   "id": "d4681c18",
   "metadata": {},
   "outputs": [
    {
     "data": {
      "text/plain": [
       "(-7.0, 3.0)"
      ]
     },
     "execution_count": 12,
     "metadata": {},
     "output_type": "execute_result"
    }
   ],
   "source": [
    "x[0], y[0]"
   ]
  },
  {
   "cell_type": "code",
   "execution_count": 13,
   "id": "9c0e166c",
   "metadata": {},
   "outputs": [
    {
     "data": {
      "text/plain": [
       "(-4.0, 6.0)"
      ]
     },
     "execution_count": 13,
     "metadata": {},
     "output_type": "execute_result"
    }
   ],
   "source": [
    "x[1], y[1]"
   ]
  },
  {
   "cell_type": "code",
   "execution_count": 14,
   "id": "7b8dcea5",
   "metadata": {},
   "outputs": [
    {
     "data": {
      "text/plain": [
       "((), ())"
      ]
     },
     "execution_count": 14,
     "metadata": {},
     "output_type": "execute_result"
    }
   ],
   "source": [
    "input_shape = x[0].shape\n",
    "output_shape = y[0].shape\n",
    "\n",
    "input_shape, output_shape\n",
    "\n",
    "# looks like input and output shape have no shape"
   ]
  },
  {
   "cell_type": "code",
   "execution_count": 49,
   "id": "6796a6d0",
   "metadata": {},
   "outputs": [
    {
     "data": {
      "text/plain": [
       "(<tf.Tensor: shape=(8,), dtype=float32, numpy=array([-7., -4., -1.,  2.,  5.,  8., 11., 14.], dtype=float32)>,\n",
       " <tf.Tensor: shape=(8,), dtype=float32, numpy=array([ 3.,  6.,  9., 12., 15., 18., 21., 24.], dtype=float32)>)"
      ]
     },
     "execution_count": 49,
     "metadata": {},
     "output_type": "execute_result"
    }
   ],
   "source": [
    "# Turn out numpy arrays into tensors with float32\n",
    "x = tf.cast(tf.constant(x), dtype = tf.float32)\n",
    "y = tf.cast(tf.constant(y), dtype = tf.float32)\n",
    "\n",
    "x, y"
   ]
  },
  {
   "cell_type": "code",
   "execution_count": 95,
   "id": "e2fa0b3a",
   "metadata": {},
   "outputs": [
    {
     "name": "stdout",
     "output_type": "stream",
     "text": [
      "Epoch 1/5\n",
      "2/2 [==============================] - 0s 13ms/step - loss: 19.0311 - mae: 19.0311\n",
      "Epoch 2/5\n",
      "2/2 [==============================] - 0s 7ms/step - loss: 10.8111 - mae: 10.8111\n",
      "Epoch 3/5\n",
      "2/2 [==============================] - 0s 8ms/step - loss: 14.5005 - mae: 14.5005\n",
      "Epoch 4/5\n",
      "2/2 [==============================] - 0s 4ms/step - loss: 10.0958 - mae: 10.0958\n",
      "Epoch 5/5\n",
      "2/2 [==============================] - 0s 5ms/step - loss: 15.5388 - mae: 15.5388\n"
     ]
    },
    {
     "name": "stderr",
     "output_type": "stream",
     "text": [
      "2022-08-16 18:37:44.771904: I tensorflow/core/grappler/optimizers/custom_graph_optimizer_registry.cc:113] Plugin optimizer for device_type GPU is enabled.\n"
     ]
    },
    {
     "data": {
      "text/plain": [
       "<keras.callbacks.History at 0x2b1de9a90>"
      ]
     },
     "execution_count": 95,
     "metadata": {},
     "output_type": "execute_result"
    }
   ],
   "source": [
    "# Set random seed\n",
    "tf.random.set_seed(42)\n",
    "\n",
    "# 1. Create a model using the Sequential API\n",
    "# making lists\n",
    "model = tf.keras.Sequential([\n",
    "    tf.keras.layers.Dense(1)\n",
    "])\n",
    "\n",
    "# adding denses\n",
    "# model = tf.keras.Sequential()\n",
    "# model.add(tf.keras.layers.Dense(1))\n",
    "\n",
    "# 2. Complie the model\n",
    "model.compile(loss = tf.keras.losses.mae,\n",
    "             optimizer = tf.keras.optimizers.SGD(),\n",
    "             metrics = ['mae'])\n",
    "\n",
    "# 3. Fit the model\n",
    "#model.fit(x, y, epochs = 5)\n",
    "# tf 2.7.0 이후부턴 코드 바뀜\n",
    "model.fit(tf.expand_dims(x, axis = -1), y, epochs = 5)"
   ]
  },
  {
   "cell_type": "code",
   "execution_count": 24,
   "id": "8b610b92",
   "metadata": {},
   "outputs": [
    {
     "data": {
      "text/plain": [
       "(<tf.Tensor: shape=(8,), dtype=float32, numpy=array([-7., -4., -1.,  2.,  5.,  8., 11., 14.], dtype=float32)>,\n",
       " <tf.Tensor: shape=(8,), dtype=float32, numpy=array([ 3.,  6.,  9., 12., 15., 18., 21., 24.], dtype=float32)>)"
      ]
     },
     "execution_count": 24,
     "metadata": {},
     "output_type": "execute_result"
    }
   ],
   "source": [
    "# check out x and y\n",
    "x, y"
   ]
  },
  {
   "cell_type": "code",
   "execution_count": 90,
   "id": "16b1c2a7",
   "metadata": {},
   "outputs": [
    {
     "name": "stdout",
     "output_type": "stream",
     "text": [
      "1/1 [==============================] - 0s 18ms/step\n"
     ]
    },
    {
     "data": {
      "text/plain": [
       "array([[21.234158]], dtype=float32)"
      ]
     },
     "execution_count": 90,
     "metadata": {},
     "output_type": "execute_result"
    }
   ],
   "source": [
    "# Try and make a prediction using our model\n",
    "y_pred = model.predict([17.0])\n",
    "y_pred\n",
    "\n",
    "# epochs수가 너무 적어서 예측이 잘 안됨."
   ]
  },
  {
   "cell_type": "markdown",
   "id": "6fb855c9",
   "metadata": {},
   "source": [
    "# Steps in improving a model with tf"
   ]
  },
  {
   "cell_type": "code",
   "execution_count": 50,
   "id": "c0d80f80",
   "metadata": {},
   "outputs": [
    {
     "name": "stdout",
     "output_type": "stream",
     "text": [
      "Epoch 1/100\n",
      "1/1 [==============================] - 0s 314ms/step - loss: 11.5048 - mae: 11.5048\n",
      "Epoch 2/100\n",
      "1/1 [==============================] - 0s 4ms/step - loss: 11.3723 - mae: 11.3723\n",
      "Epoch 3/100\n",
      "1/1 [==============================] - 0s 5ms/step - loss: 11.2398 - mae: 11.2398\n",
      "Epoch 4/100\n",
      "1/1 [==============================] - 0s 7ms/step - loss: 11.1073 - mae: 11.1073\n",
      "Epoch 5/100\n",
      "1/1 [==============================] - 0s 5ms/step - loss: 10.9748 - mae: 10.9748\n",
      "Epoch 6/100\n",
      "1/1 [==============================] - 0s 6ms/step - loss: 10.8423 - mae: 10.8423\n",
      "Epoch 7/100\n",
      "1/1 [==============================] - 0s 5ms/step - loss: 10.7098 - mae: 10.7098\n",
      "Epoch 8/100\n",
      "1/1 [==============================] - 0s 5ms/step - loss: 10.5773 - mae: 10.5773\n",
      "Epoch 9/100\n",
      "1/1 [==============================] - 0s 5ms/step - loss: 10.4448 - mae: 10.4448\n",
      "Epoch 10/100\n",
      "1/1 [==============================] - 0s 9ms/step - loss: 10.3123 - mae: 10.3123\n",
      "Epoch 11/100\n",
      "1/1 [==============================] - 0s 5ms/step - loss: 10.1798 - mae: 10.1798\n",
      "Epoch 12/100\n",
      "1/1 [==============================] - 0s 7ms/step - loss: 10.0473 - mae: 10.0473\n",
      "Epoch 13/100\n",
      "1/1 [==============================] - 0s 6ms/step - loss: 9.9148 - mae: 9.9148\n",
      "Epoch 14/100\n",
      "1/1 [==============================] - 0s 7ms/step - loss: 9.7823 - mae: 9.7823\n",
      "Epoch 15/100\n",
      "1/1 [==============================] - 0s 5ms/step - loss: 9.6498 - mae: 9.6498\n",
      "Epoch 16/100\n",
      "1/1 [==============================] - 0s 6ms/step - loss: 9.5173 - mae: 9.5173\n",
      "Epoch 17/100\n",
      "1/1 [==============================] - 0s 5ms/step - loss: 9.3848 - mae: 9.3848\n",
      "Epoch 18/100\n",
      "1/1 [==============================] - 0s 6ms/step - loss: 9.2523 - mae: 9.2523\n",
      "Epoch 19/100\n",
      "1/1 [==============================] - 0s 6ms/step - loss: 9.1198 - mae: 9.1198\n",
      "Epoch 20/100\n",
      "1/1 [==============================] - 0s 6ms/step - loss: 8.9873 - mae: 8.9873\n",
      "Epoch 21/100\n"
     ]
    },
    {
     "name": "stderr",
     "output_type": "stream",
     "text": [
      "2022-08-15 22:36:03.394450: I tensorflow/core/grappler/optimizers/custom_graph_optimizer_registry.cc:113] Plugin optimizer for device_type GPU is enabled.\n"
     ]
    },
    {
     "name": "stdout",
     "output_type": "stream",
     "text": [
      "1/1 [==============================] - 0s 7ms/step - loss: 8.8548 - mae: 8.8548\n",
      "Epoch 22/100\n",
      "1/1 [==============================] - 0s 6ms/step - loss: 8.7223 - mae: 8.7223\n",
      "Epoch 23/100\n",
      "1/1 [==============================] - 0s 7ms/step - loss: 8.5898 - mae: 8.5898\n",
      "Epoch 24/100\n",
      "1/1 [==============================] - 0s 7ms/step - loss: 8.4573 - mae: 8.4573\n",
      "Epoch 25/100\n",
      "1/1 [==============================] - 0s 4ms/step - loss: 8.3248 - mae: 8.3248\n",
      "Epoch 26/100\n",
      "1/1 [==============================] - 0s 8ms/step - loss: 8.1923 - mae: 8.1923\n",
      "Epoch 27/100\n",
      "1/1 [==============================] - 0s 5ms/step - loss: 8.0598 - mae: 8.0598\n",
      "Epoch 28/100\n",
      "1/1 [==============================] - 0s 7ms/step - loss: 7.9273 - mae: 7.9273\n",
      "Epoch 29/100\n",
      "1/1 [==============================] - 0s 4ms/step - loss: 7.7948 - mae: 7.7948\n",
      "Epoch 30/100\n",
      "1/1 [==============================] - 0s 8ms/step - loss: 7.6623 - mae: 7.6623\n",
      "Epoch 31/100\n",
      "1/1 [==============================] - 0s 6ms/step - loss: 7.5298 - mae: 7.5298\n",
      "Epoch 32/100\n",
      "1/1 [==============================] - 0s 8ms/step - loss: 7.3973 - mae: 7.3973\n",
      "Epoch 33/100\n",
      "1/1 [==============================] - 0s 7ms/step - loss: 7.2648 - mae: 7.2648\n",
      "Epoch 34/100\n",
      "1/1 [==============================] - 0s 6ms/step - loss: 7.2525 - mae: 7.2525\n",
      "Epoch 35/100\n",
      "1/1 [==============================] - 0s 7ms/step - loss: 7.2469 - mae: 7.2469\n",
      "Epoch 36/100\n",
      "1/1 [==============================] - 0s 6ms/step - loss: 7.2413 - mae: 7.2413\n",
      "Epoch 37/100\n",
      "1/1 [==============================] - 0s 8ms/step - loss: 7.2356 - mae: 7.2356\n",
      "Epoch 38/100\n",
      "1/1 [==============================] - 0s 5ms/step - loss: 7.2300 - mae: 7.2300\n",
      "Epoch 39/100\n",
      "1/1 [==============================] - 0s 16ms/step - loss: 7.2244 - mae: 7.2244\n",
      "Epoch 40/100\n",
      "1/1 [==============================] - 0s 7ms/step - loss: 7.2188 - mae: 7.2188\n",
      "Epoch 41/100\n",
      "1/1 [==============================] - 0s 4ms/step - loss: 7.2131 - mae: 7.2131\n",
      "Epoch 42/100\n",
      "1/1 [==============================] - 0s 4ms/step - loss: 7.2075 - mae: 7.2075\n",
      "Epoch 43/100\n",
      "1/1 [==============================] - 0s 4ms/step - loss: 7.2019 - mae: 7.2019\n",
      "Epoch 44/100\n",
      "1/1 [==============================] - 0s 4ms/step - loss: 7.1963 - mae: 7.1963\n",
      "Epoch 45/100\n",
      "1/1 [==============================] - 0s 4ms/step - loss: 7.1906 - mae: 7.1906\n",
      "Epoch 46/100\n",
      "1/1 [==============================] - 0s 4ms/step - loss: 7.1850 - mae: 7.1850\n",
      "Epoch 47/100\n",
      "1/1 [==============================] - 0s 4ms/step - loss: 7.1794 - mae: 7.1794\n",
      "Epoch 48/100\n",
      "1/1 [==============================] - 0s 4ms/step - loss: 7.1738 - mae: 7.1738\n",
      "Epoch 49/100\n",
      "1/1 [==============================] - 0s 4ms/step - loss: 7.1681 - mae: 7.1681\n",
      "Epoch 50/100\n",
      "1/1 [==============================] - 0s 5ms/step - loss: 7.1625 - mae: 7.1625\n",
      "Epoch 51/100\n",
      "1/1 [==============================] - 0s 7ms/step - loss: 7.1569 - mae: 7.1569\n",
      "Epoch 52/100\n",
      "1/1 [==============================] - 0s 5ms/step - loss: 7.1512 - mae: 7.1512\n",
      "Epoch 53/100\n",
      "1/1 [==============================] - 0s 8ms/step - loss: 7.1456 - mae: 7.1456\n",
      "Epoch 54/100\n",
      "1/1 [==============================] - 0s 4ms/step - loss: 7.1400 - mae: 7.1400\n",
      "Epoch 55/100\n",
      "1/1 [==============================] - 0s 5ms/step - loss: 7.1344 - mae: 7.1344\n",
      "Epoch 56/100\n",
      "1/1 [==============================] - 0s 8ms/step - loss: 7.1287 - mae: 7.1287\n",
      "Epoch 57/100\n",
      "1/1 [==============================] - 0s 4ms/step - loss: 7.1231 - mae: 7.1231\n",
      "Epoch 58/100\n",
      "1/1 [==============================] - 0s 12ms/step - loss: 7.1175 - mae: 7.1175\n",
      "Epoch 59/100\n",
      "1/1 [==============================] - 0s 6ms/step - loss: 7.1119 - mae: 7.1119\n",
      "Epoch 60/100\n",
      "1/1 [==============================] - 0s 8ms/step - loss: 7.1063 - mae: 7.1063\n",
      "Epoch 61/100\n",
      "1/1 [==============================] - 0s 7ms/step - loss: 7.1006 - mae: 7.1006\n",
      "Epoch 62/100\n",
      "1/1 [==============================] - 0s 5ms/step - loss: 7.0950 - mae: 7.0950\n",
      "Epoch 63/100\n",
      "1/1 [==============================] - 0s 5ms/step - loss: 7.0894 - mae: 7.0894\n",
      "Epoch 64/100\n",
      "1/1 [==============================] - 0s 6ms/step - loss: 7.0838 - mae: 7.0838\n",
      "Epoch 65/100\n",
      "1/1 [==============================] - 0s 7ms/step - loss: 7.0781 - mae: 7.0781\n",
      "Epoch 66/100\n",
      "1/1 [==============================] - 0s 5ms/step - loss: 7.0725 - mae: 7.0725\n",
      "Epoch 67/100\n",
      "1/1 [==============================] - 0s 6ms/step - loss: 7.0669 - mae: 7.0669\n",
      "Epoch 68/100\n",
      "1/1 [==============================] - 0s 4ms/step - loss: 7.0613 - mae: 7.0613\n",
      "Epoch 69/100\n",
      "1/1 [==============================] - 0s 4ms/step - loss: 7.0556 - mae: 7.0556\n",
      "Epoch 70/100\n",
      "1/1 [==============================] - 0s 5ms/step - loss: 7.0500 - mae: 7.0500\n",
      "Epoch 71/100\n",
      "1/1 [==============================] - 0s 4ms/step - loss: 7.0444 - mae: 7.0444\n",
      "Epoch 72/100\n",
      "1/1 [==============================] - 0s 7ms/step - loss: 7.0388 - mae: 7.0388\n",
      "Epoch 73/100\n",
      "1/1 [==============================] - 0s 4ms/step - loss: 7.0331 - mae: 7.0331\n",
      "Epoch 74/100\n",
      "1/1 [==============================] - 0s 6ms/step - loss: 7.0275 - mae: 7.0275\n",
      "Epoch 75/100\n",
      "1/1 [==============================] - 0s 4ms/step - loss: 7.0219 - mae: 7.0219\n",
      "Epoch 76/100\n",
      "1/1 [==============================] - 0s 7ms/step - loss: 7.0163 - mae: 7.0163\n",
      "Epoch 77/100\n",
      "1/1 [==============================] - 0s 7ms/step - loss: 7.0106 - mae: 7.0106\n",
      "Epoch 78/100\n",
      "1/1 [==============================] - 0s 6ms/step - loss: 7.0050 - mae: 7.0050\n",
      "Epoch 79/100\n",
      "1/1 [==============================] - 0s 5ms/step - loss: 6.9994 - mae: 6.9994\n",
      "Epoch 80/100\n",
      "1/1 [==============================] - 0s 4ms/step - loss: 6.9938 - mae: 6.9938\n",
      "Epoch 81/100\n",
      "1/1 [==============================] - 0s 4ms/step - loss: 6.9881 - mae: 6.9881\n",
      "Epoch 82/100\n",
      "1/1 [==============================] - 0s 5ms/step - loss: 6.9825 - mae: 6.9825\n",
      "Epoch 83/100\n",
      "1/1 [==============================] - 0s 5ms/step - loss: 6.9769 - mae: 6.9769\n",
      "Epoch 84/100\n",
      "1/1 [==============================] - 0s 4ms/step - loss: 6.9713 - mae: 6.9713\n",
      "Epoch 85/100\n",
      "1/1 [==============================] - 0s 4ms/step - loss: 6.9656 - mae: 6.9656\n",
      "Epoch 86/100\n",
      "1/1 [==============================] - 0s 5ms/step - loss: 6.9600 - mae: 6.9600\n",
      "Epoch 87/100\n",
      "1/1 [==============================] - 0s 4ms/step - loss: 6.9544 - mae: 6.9544\n",
      "Epoch 88/100\n",
      "1/1 [==============================] - 0s 5ms/step - loss: 6.9488 - mae: 6.9488\n",
      "Epoch 89/100\n",
      "1/1 [==============================] - 0s 5ms/step - loss: 6.9431 - mae: 6.9431\n",
      "Epoch 90/100\n",
      "1/1 [==============================] - 0s 4ms/step - loss: 6.9375 - mae: 6.9375\n",
      "Epoch 91/100\n",
      "1/1 [==============================] - 0s 4ms/step - loss: 6.9319 - mae: 6.9319\n",
      "Epoch 92/100\n",
      "1/1 [==============================] - 0s 5ms/step - loss: 6.9263 - mae: 6.9263\n",
      "Epoch 93/100\n",
      "1/1 [==============================] - 0s 4ms/step - loss: 6.9206 - mae: 6.9206\n",
      "Epoch 94/100\n",
      "1/1 [==============================] - 0s 4ms/step - loss: 6.9150 - mae: 6.9150\n",
      "Epoch 95/100\n",
      "1/1 [==============================] - 0s 4ms/step - loss: 6.9094 - mae: 6.9094\n",
      "Epoch 96/100\n",
      "1/1 [==============================] - 0s 5ms/step - loss: 6.9038 - mae: 6.9038\n",
      "Epoch 97/100\n",
      "1/1 [==============================] - 0s 5ms/step - loss: 6.8981 - mae: 6.8981\n",
      "Epoch 98/100\n",
      "1/1 [==============================] - 0s 4ms/step - loss: 6.8925 - mae: 6.8925\n",
      "Epoch 99/100\n",
      "1/1 [==============================] - 0s 4ms/step - loss: 6.8869 - mae: 6.8869\n",
      "Epoch 100/100\n",
      "1/1 [==============================] - 0s 5ms/step - loss: 6.8813 - mae: 6.8813\n"
     ]
    },
    {
     "data": {
      "text/plain": [
       "<keras.callbacks.History at 0x1783e2d60>"
      ]
     },
     "execution_count": 50,
     "metadata": {},
     "output_type": "execute_result"
    }
   ],
   "source": [
    "# Set random seed\n",
    "tf.random.set_seed(42)\n",
    "\n",
    "# 1. Create a model using the Sequential API\n",
    "# making lists\n",
    "model = tf.keras.Sequential([\n",
    "    tf.keras.layers.Dense(1)\n",
    "])\n",
    "\n",
    "\n",
    "# 2. Complie the model\n",
    "model.compile(loss = tf.keras.losses.mae,\n",
    "             optimizer = tf.keras.optimizers.SGD(),\n",
    "             metrics = ['mae'])\n",
    "\n",
    "# 3. Fit the model\n",
    "#model.fit(x, y, epochs = 5)\n",
    "# tf 2.7.0 이후부턴 코드 바뀜\n",
    "model.fit(tf.expand_dims(x, axis = -1), y, epochs = 100)"
   ]
  },
  {
   "cell_type": "code",
   "execution_count": 55,
   "id": "a190d073",
   "metadata": {},
   "outputs": [
    {
     "name": "stdout",
     "output_type": "stream",
     "text": [
      "1/1 [==============================] - 0s 13ms/step\n"
     ]
    },
    {
     "data": {
      "text/plain": [
       "array([[19.808155]], dtype=float32)"
      ]
     },
     "execution_count": 55,
     "metadata": {},
     "output_type": "execute_result"
    }
   ],
   "source": [
    "model.predict([11.0])"
   ]
  },
  {
   "cell_type": "code",
   "execution_count": 128,
   "id": "cb0f67ae",
   "metadata": {},
   "outputs": [
    {
     "name": "stdout",
     "output_type": "stream",
     "text": [
      "Epoch 1/100\n",
      "1/1 [==============================] - 0s 195ms/step - loss: 12.1892 - mae: 12.1892\n",
      "Epoch 2/100\n",
      "1/1 [==============================] - 0s 5ms/step - loss: 11.5062 - mae: 11.5062\n",
      "Epoch 3/100\n",
      "1/1 [==============================] - 0s 6ms/step - loss: 10.8147 - mae: 10.8147\n",
      "Epoch 4/100\n",
      "1/1 [==============================] - 0s 8ms/step - loss: 10.1129 - mae: 10.1129\n",
      "Epoch 5/100\n",
      "1/1 [==============================] - 0s 5ms/step - loss: 9.3993 - mae: 9.3993\n",
      "Epoch 6/100\n",
      "1/1 [==============================] - 0s 9ms/step - loss: 8.6719 - mae: 8.6719\n",
      "Epoch 7/100\n",
      "1/1 [==============================] - 0s 5ms/step - loss: 7.9279 - mae: 7.9279\n",
      "Epoch 8/100\n",
      "1/1 [==============================] - 0s 9ms/step - loss: 7.1646 - mae: 7.1646\n",
      "Epoch 9/100\n",
      "1/1 [==============================] - 0s 5ms/step - loss: 6.8576 - mae: 6.8576\n",
      "Epoch 10/100\n",
      "1/1 [==============================] - 0s 8ms/step - loss: 7.1579 - mae: 7.1579\n",
      "Epoch 11/100\n",
      "1/1 [==============================] - 0s 9ms/step - loss: 7.4309 - mae: 7.4309\n",
      "Epoch 12/100\n",
      "1/1 [==============================] - 0s 5ms/step - loss: 7.7069 - mae: 7.7069\n",
      "Epoch 13/100\n",
      "1/1 [==============================] - 0s 10ms/step - loss: 7.7601 - mae: 7.7601\n",
      "Epoch 14/100\n",
      "1/1 [==============================] - 0s 6ms/step - loss: 7.6129 - mae: 7.6129\n",
      "Epoch 15/100\n",
      "1/1 [==============================] - 0s 8ms/step - loss: 7.3192 - mae: 7.3192\n",
      "Epoch 16/100\n",
      "1/1 [==============================] - 0s 5ms/step - loss: 7.0147 - mae: 7.0147\n",
      "Epoch 17/100\n",
      "1/1 [==============================] - ETA: 0s - loss: 6.7420 - mae: 6.7420"
     ]
    },
    {
     "name": "stderr",
     "output_type": "stream",
     "text": [
      "2022-08-15 22:53:29.973818: I tensorflow/core/grappler/optimizers/custom_graph_optimizer_registry.cc:113] Plugin optimizer for device_type GPU is enabled.\n"
     ]
    },
    {
     "name": "stdout",
     "output_type": "stream",
     "text": [
      "1/1 [==============================] - 0s 7ms/step - loss: 6.7420 - mae: 6.7420\n",
      "Epoch 18/100\n",
      "1/1 [==============================] - 0s 5ms/step - loss: 6.4556 - mae: 6.4556\n",
      "Epoch 19/100\n",
      "1/1 [==============================] - 0s 7ms/step - loss: 6.2276 - mae: 6.2276\n",
      "Epoch 20/100\n",
      "1/1 [==============================] - 0s 8ms/step - loss: 6.1834 - mae: 6.1834\n",
      "Epoch 21/100\n",
      "1/1 [==============================] - 0s 5ms/step - loss: 6.1887 - mae: 6.1887\n",
      "Epoch 22/100\n",
      "1/1 [==============================] - 0s 8ms/step - loss: 6.2645 - mae: 6.2645\n",
      "Epoch 23/100\n",
      "1/1 [==============================] - 0s 5ms/step - loss: 6.2358 - mae: 6.2358\n",
      "Epoch 24/100\n",
      "1/1 [==============================] - 0s 9ms/step - loss: 6.1160 - mae: 6.1160\n",
      "Epoch 25/100\n",
      "1/1 [==============================] - 0s 7ms/step - loss: 5.9150 - mae: 5.9150\n",
      "Epoch 26/100\n",
      "1/1 [==============================] - 0s 8ms/step - loss: 5.7328 - mae: 5.7328\n",
      "Epoch 27/100\n",
      "1/1 [==============================] - 0s 8ms/step - loss: 5.6302 - mae: 5.6302\n",
      "Epoch 28/100\n",
      "1/1 [==============================] - 0s 8ms/step - loss: 5.5248 - mae: 5.5248\n",
      "Epoch 29/100\n",
      "1/1 [==============================] - 0s 8ms/step - loss: 5.4918 - mae: 5.4918\n",
      "Epoch 30/100\n",
      "1/1 [==============================] - 0s 8ms/step - loss: 5.4706 - mae: 5.4706\n",
      "Epoch 31/100\n",
      "1/1 [==============================] - 0s 7ms/step - loss: 5.4059 - mae: 5.4059\n",
      "Epoch 32/100\n",
      "1/1 [==============================] - 0s 8ms/step - loss: 5.3012 - mae: 5.3012\n",
      "Epoch 33/100\n",
      "1/1 [==============================] - 0s 7ms/step - loss: 5.1600 - mae: 5.1600\n",
      "Epoch 34/100\n",
      "1/1 [==============================] - 0s 8ms/step - loss: 4.9855 - mae: 4.9855\n",
      "Epoch 35/100\n",
      "1/1 [==============================] - 0s 9ms/step - loss: 4.8527 - mae: 4.8527\n",
      "Epoch 36/100\n",
      "1/1 [==============================] - 0s 9ms/step - loss: 4.7599 - mae: 4.7599\n",
      "Epoch 37/100\n",
      "1/1 [==============================] - 0s 9ms/step - loss: 4.6597 - mae: 4.6597\n",
      "Epoch 38/100\n",
      "1/1 [==============================] - 0s 8ms/step - loss: 4.5520 - mae: 4.5520\n",
      "Epoch 39/100\n",
      "1/1 [==============================] - 0s 8ms/step - loss: 4.5088 - mae: 4.5088\n",
      "Epoch 40/100\n",
      "1/1 [==============================] - 0s 10ms/step - loss: 4.3487 - mae: 4.3487\n",
      "Epoch 41/100\n",
      "1/1 [==============================] - 0s 8ms/step - loss: 4.1535 - mae: 4.1535\n",
      "Epoch 42/100\n",
      "1/1 [==============================] - 0s 9ms/step - loss: 3.9967 - mae: 3.9967\n",
      "Epoch 43/100\n",
      "1/1 [==============================] - 0s 7ms/step - loss: 3.8327 - mae: 3.8327\n",
      "Epoch 44/100\n",
      "1/1 [==============================] - 0s 9ms/step - loss: 3.7625 - mae: 3.7625\n",
      "Epoch 45/100\n",
      "1/1 [==============================] - 0s 5ms/step - loss: 3.6491 - mae: 3.6491\n",
      "Epoch 46/100\n",
      "1/1 [==============================] - 0s 5ms/step - loss: 3.4809 - mae: 3.4809\n",
      "Epoch 47/100\n",
      "1/1 [==============================] - 0s 6ms/step - loss: 3.2609 - mae: 3.2609\n",
      "Epoch 48/100\n",
      "1/1 [==============================] - 0s 7ms/step - loss: 3.0067 - mae: 3.0067\n",
      "Epoch 49/100\n",
      "1/1 [==============================] - 0s 9ms/step - loss: 2.8345 - mae: 2.8345\n",
      "Epoch 50/100\n",
      "1/1 [==============================] - 0s 7ms/step - loss: 2.6504 - mae: 2.6504\n",
      "Epoch 51/100\n",
      "1/1 [==============================] - 0s 6ms/step - loss: 2.5291 - mae: 2.5291\n",
      "Epoch 52/100\n",
      "1/1 [==============================] - 0s 5ms/step - loss: 2.2568 - mae: 2.2568\n",
      "Epoch 53/100\n",
      "1/1 [==============================] - 0s 6ms/step - loss: 1.9922 - mae: 1.9922\n",
      "Epoch 54/100\n",
      "1/1 [==============================] - 0s 8ms/step - loss: 1.8862 - mae: 1.8862\n",
      "Epoch 55/100\n",
      "1/1 [==============================] - 0s 5ms/step - loss: 1.7493 - mae: 1.7493\n",
      "Epoch 56/100\n",
      "1/1 [==============================] - 0s 8ms/step - loss: 1.4483 - mae: 1.4483\n",
      "Epoch 57/100\n",
      "1/1 [==============================] - 0s 5ms/step - loss: 1.0456 - mae: 1.0456\n",
      "Epoch 58/100\n",
      "1/1 [==============================] - 0s 6ms/step - loss: 1.0036 - mae: 1.0036\n",
      "Epoch 59/100\n",
      "1/1 [==============================] - 0s 6ms/step - loss: 0.8794 - mae: 0.8794\n",
      "Epoch 60/100\n",
      "1/1 [==============================] - 0s 5ms/step - loss: 0.5783 - mae: 0.5783\n",
      "Epoch 61/100\n",
      "1/1 [==============================] - 0s 6ms/step - loss: 0.1272 - mae: 0.1272\n",
      "Epoch 62/100\n",
      "1/1 [==============================] - 0s 5ms/step - loss: 0.7015 - mae: 0.7015\n",
      "Epoch 63/100\n",
      "1/1 [==============================] - 0s 5ms/step - loss: 1.0911 - mae: 1.0911\n",
      "Epoch 64/100\n",
      "1/1 [==============================] - 0s 6ms/step - loss: 1.2005 - mae: 1.2005\n",
      "Epoch 65/100\n",
      "1/1 [==============================] - 0s 5ms/step - loss: 1.1068 - mae: 1.1068\n",
      "Epoch 66/100\n",
      "1/1 [==============================] - 0s 5ms/step - loss: 0.8267 - mae: 0.8267\n",
      "Epoch 67/100\n",
      "1/1 [==============================] - 0s 7ms/step - loss: 0.9596 - mae: 0.9596\n",
      "Epoch 68/100\n",
      "1/1 [==============================] - 0s 5ms/step - loss: 1.2163 - mae: 1.2163\n",
      "Epoch 69/100\n",
      "1/1 [==============================] - 0s 5ms/step - loss: 1.1633 - mae: 1.1633\n",
      "Epoch 70/100\n",
      "1/1 [==============================] - 0s 5ms/step - loss: 0.8277 - mae: 0.8277\n",
      "Epoch 71/100\n",
      "1/1 [==============================] - 0s 6ms/step - loss: 0.4804 - mae: 0.4804\n",
      "Epoch 72/100\n",
      "1/1 [==============================] - 0s 5ms/step - loss: 0.6306 - mae: 0.6306\n",
      "Epoch 73/100\n",
      "1/1 [==============================] - 0s 5ms/step - loss: 0.6348 - mae: 0.6348\n",
      "Epoch 74/100\n",
      "1/1 [==============================] - 0s 6ms/step - loss: 0.4773 - mae: 0.4773\n",
      "Epoch 75/100\n",
      "1/1 [==============================] - 0s 5ms/step - loss: 0.0821 - mae: 0.0821\n",
      "Epoch 76/100\n",
      "1/1 [==============================] - 0s 7ms/step - loss: 0.5339 - mae: 0.5339\n",
      "Epoch 77/100\n",
      "1/1 [==============================] - 0s 5ms/step - loss: 0.7890 - mae: 0.7890\n",
      "Epoch 78/100\n",
      "1/1 [==============================] - 0s 5ms/step - loss: 0.7637 - mae: 0.7637\n",
      "Epoch 79/100\n",
      "1/1 [==============================] - 0s 5ms/step - loss: 0.5786 - mae: 0.5786\n",
      "Epoch 80/100\n",
      "1/1 [==============================] - 0s 4ms/step - loss: 0.3076 - mae: 0.3076\n",
      "Epoch 81/100\n",
      "1/1 [==============================] - 0s 6ms/step - loss: 0.5663 - mae: 0.5663\n",
      "Epoch 82/100\n",
      "1/1 [==============================] - 0s 5ms/step - loss: 0.6587 - mae: 0.6587\n",
      "Epoch 83/100\n",
      "1/1 [==============================] - 0s 6ms/step - loss: 0.5062 - mae: 0.5062\n",
      "Epoch 84/100\n",
      "1/1 [==============================] - 0s 5ms/step - loss: 0.1443 - mae: 0.1443\n",
      "Epoch 85/100\n",
      "1/1 [==============================] - 0s 5ms/step - loss: 0.4346 - mae: 0.4346\n",
      "Epoch 86/100\n",
      "1/1 [==============================] - 0s 5ms/step - loss: 0.6408 - mae: 0.6408\n",
      "Epoch 87/100\n",
      "1/1 [==============================] - 0s 6ms/step - loss: 0.5573 - mae: 0.5573\n",
      "Epoch 88/100\n",
      "1/1 [==============================] - 0s 5ms/step - loss: 0.2404 - mae: 0.2404\n",
      "Epoch 89/100\n",
      "1/1 [==============================] - 0s 6ms/step - loss: 0.4464 - mae: 0.4464\n",
      "Epoch 90/100\n",
      "1/1 [==============================] - 0s 6ms/step - loss: 0.7387 - mae: 0.7387\n",
      "Epoch 91/100\n",
      "1/1 [==============================] - 0s 6ms/step - loss: 0.7647 - mae: 0.7647\n",
      "Epoch 92/100\n",
      "1/1 [==============================] - 0s 6ms/step - loss: 0.5255 - mae: 0.5255\n",
      "Epoch 93/100\n",
      "1/1 [==============================] - 0s 5ms/step - loss: 0.1497 - mae: 0.1497\n",
      "Epoch 94/100\n",
      "1/1 [==============================] - 0s 5ms/step - loss: 0.5547 - mae: 0.5547\n",
      "Epoch 95/100\n",
      "1/1 [==============================] - 0s 5ms/step - loss: 0.8059 - mae: 0.8059\n",
      "Epoch 96/100\n",
      "1/1 [==============================] - 0s 6ms/step - loss: 0.7954 - mae: 0.7954\n",
      "Epoch 97/100\n",
      "1/1 [==============================] - 0s 5ms/step - loss: 0.5562 - mae: 0.5562\n",
      "Epoch 98/100\n",
      "1/1 [==============================] - 0s 6ms/step - loss: 0.2053 - mae: 0.2053\n",
      "Epoch 99/100\n",
      "1/1 [==============================] - 0s 5ms/step - loss: 0.5104 - mae: 0.5104\n",
      "Epoch 100/100\n",
      "1/1 [==============================] - 0s 6ms/step - loss: 0.7778 - mae: 0.7778\n"
     ]
    },
    {
     "data": {
      "text/plain": [
       "<keras.callbacks.History at 0x2ccb21a00>"
      ]
     },
     "execution_count": 128,
     "metadata": {},
     "output_type": "execute_result"
    }
   ],
   "source": [
    "# Create a larger model\n",
    "\n",
    "#tf.random.set_seed(42)\n",
    "# 1. Create a model\n",
    "model = tf.keras.Sequential([\n",
    "  #  tf.keras.layers.Dense(100, activation='relu'),\n",
    " #   tf.keras.layers.Dense(100, activation='relu'),   # adding layers, change the activation func, increase hidden units\n",
    "#    tf.keras.layers.Dense(100, activation='relu'),\n",
    "    tf.keras.layers.Dense(50, activation = None),\n",
    "    tf.keras.layers.Dense(1)  # output layer\n",
    "])\n",
    "\n",
    "# 2. Compile the model\n",
    "model.compile(loss = 'mae',\n",
    "             optimizer = tf.keras.optimizers.Adam(lr = 0.01),   # change the optimization func, change the learning rate\n",
    "             metrics = ['mae'])\n",
    "\n",
    "# 3. Fit the model\n",
    "model.fit(tf.expand_dims(x, axis = -1), y, epochs = 100)"
   ]
  },
  {
   "cell_type": "code",
   "execution_count": 69,
   "id": "5178b0e2",
   "metadata": {},
   "outputs": [
    {
     "data": {
      "text/plain": [
       "(<tf.Tensor: shape=(8,), dtype=float32, numpy=array([-7., -4., -1.,  2.,  5.,  8., 11., 14.], dtype=float32)>,\n",
       " <tf.Tensor: shape=(8,), dtype=float32, numpy=array([ 3.,  6.,  9., 12., 15., 18., 21., 24.], dtype=float32)>)"
      ]
     },
     "execution_count": 69,
     "metadata": {},
     "output_type": "execute_result"
    }
   ],
   "source": [
    "x,y"
   ]
  },
  {
   "cell_type": "code",
   "execution_count": 134,
   "id": "d306eb76",
   "metadata": {},
   "outputs": [
    {
     "name": "stdout",
     "output_type": "stream",
     "text": [
      "1/1 [==============================] - 0s 14ms/step\n"
     ]
    },
    {
     "data": {
      "text/plain": [
       "array([[18.89208]], dtype=float32)"
      ]
     },
     "execution_count": 134,
     "metadata": {},
     "output_type": "execute_result"
    }
   ],
   "source": [
    "model.predict([8.0])"
   ]
  },
  {
   "cell_type": "markdown",
   "id": "874ec9d5",
   "metadata": {},
   "source": [
    "# Evaluating a model"
   ]
  },
  {
   "cell_type": "code",
   "execution_count": null,
   "id": "0163761c",
   "metadata": {},
   "outputs": [],
   "source": [
    "# Visualize is the most important way to evaluate a model"
   ]
  },
  {
   "cell_type": "code",
   "execution_count": 88,
   "id": "181db575",
   "metadata": {},
   "outputs": [
    {
     "data": {
      "text/plain": [
       "<tf.Tensor: shape=(50,), dtype=int32, numpy=\n",
       "array([-100,  -96,  -92,  -88,  -84,  -80,  -76,  -72,  -68,  -64,  -60,\n",
       "        -56,  -52,  -48,  -44,  -40,  -36,  -32,  -28,  -24,  -20,  -16,\n",
       "        -12,   -8,   -4,    0,    4,    8,   12,   16,   20,   24,   28,\n",
       "         32,   36,   40,   44,   48,   52,   56,   60,   64,   68,   72,\n",
       "         76,   80,   84,   88,   92,   96], dtype=int32)>"
      ]
     },
     "execution_count": 88,
     "metadata": {},
     "output_type": "execute_result"
    }
   ],
   "source": [
    "# Make a bigger dataset\n",
    "x = tf.range(-100, 100, 4)\n",
    "x"
   ]
  },
  {
   "cell_type": "code",
   "execution_count": 5,
   "id": "634084a3",
   "metadata": {},
   "outputs": [
    {
     "data": {
      "text/plain": [
       "<tf.Tensor: shape=(50,), dtype=int32, numpy=\n",
       "array([-90, -86, -82, -78, -74, -70, -66, -62, -58, -54, -50, -46, -42,\n",
       "       -38, -34, -30, -26, -22, -18, -14, -10,  -6,  -2,   2,   6,  10,\n",
       "        14,  18,  22,  26,  30,  34,  38,  42,  46,  50,  54,  58,  62,\n",
       "        66,  70,  74,  78,  82,  86,  90,  94,  98, 102, 106], dtype=int32)>"
      ]
     },
     "execution_count": 5,
     "metadata": {},
     "output_type": "execute_result"
    }
   ],
   "source": [
    "y = x + 10\n",
    "y"
   ]
  },
  {
   "cell_type": "code",
   "execution_count": 6,
   "id": "c4a2072c",
   "metadata": {},
   "outputs": [
    {
     "data": {
      "image/png": "[encoded data removed]",
      "text/plain": [
       "<Figure size 432x288 with 1 Axes>"
      ]
     },
     "metadata": {
      "needs_background": "light"
     },
     "output_type": "display_data"
    }
   ],
   "source": [
    "# Visualize the data\n",
    "\n",
    "plt.plot(x,y)\n",
    "plt.show()"
   ]
  },
  {
   "cell_type": "code",
   "execution_count": 7,
   "id": "c9d08bc1",
   "metadata": {},
   "outputs": [],
   "source": [
    "# The 3 sets...\n",
    "\n",
    "# training set \n",
    "# validataion set\n",
    "# test set"
   ]
  },
  {
   "cell_type": "code",
   "execution_count": 8,
   "id": "f1ba9e7d",
   "metadata": {},
   "outputs": [
    {
     "data": {
      "text/plain": [
       "50"
      ]
     },
     "execution_count": 8,
     "metadata": {},
     "output_type": "execute_result"
    }
   ],
   "source": [
    "# Check the length of how many samples we have\n",
    "len(x)"
   ]
  },
  {
   "cell_type": "code",
   "execution_count": 9,
   "id": "cc0d448a",
   "metadata": {},
   "outputs": [
    {
     "data": {
      "text/plain": [
       "(40, 10, 40, 10)"
      ]
     },
     "execution_count": 9,
     "metadata": {},
     "output_type": "execute_result"
    }
   ],
   "source": [
    "# split the data into train and test sets\n",
    "x_train = x[:40]\n",
    "y_train = y[:40]\n",
    "\n",
    "x_test = x[40: ]\n",
    "y_test = y[40:]\n",
    "\n",
    "\n",
    "len(x_train), len(x_test), len(y_train), len(y_test)"
   ]
  },
  {
   "cell_type": "code",
   "execution_count": 10,
   "id": "20c07883",
   "metadata": {},
   "outputs": [
    {
     "data": {
      "image/png": "[encoded data removed]",
      "text/plain": [
       "<Figure size 720x504 with 1 Axes>"
      ]
     },
     "metadata": {
      "needs_background": "light"
     },
     "output_type": "display_data"
    }
   ],
   "source": [
    "# Visualizing the data\n",
    "\n",
    "plt.figure(figsize = (10,7))\n",
    "plt.plot(x_train, y_train, c = 'b', label = 'Training data')\n",
    "plt.plot(x_test, y_test, c = 'g', label = 'Testing data')\n",
    "plt.legend();"
   ]
  },
  {
   "cell_type": "code",
   "execution_count": 11,
   "id": "db9d7d48",
   "metadata": {},
   "outputs": [],
   "source": [
    "# Let's have a look at how  to build a NN for our data\n",
    "\n",
    "# 1. Create a model\n",
    "model = tf.keras.Sequential([\n",
    "    tf.keras.layers.Dense(1)\n",
    "])\n",
    "\n",
    "# 2. Complie a model\n",
    "model.compile(loss = 'mae',\n",
    "             optimizer = tf.keras.optimizers.SGD(),\n",
    "             metrics=['mae'])\n",
    "\n",
    "# 3. Fit the model\n",
    "#model.fit(tf.expand_dims(x_train, axis = -1), y_train, epochs = 100)"
   ]
  },
  {
   "cell_type": "code",
   "execution_count": 12,
   "id": "51256e77",
   "metadata": {},
   "outputs": [
    {
     "ename": "ValueError",
     "evalue": "This model has not yet been built. Build the model first by calling `build()` or by calling the model on a batch of data.",
     "output_type": "error",
     "traceback": [
      "\u001b[0;31m---------------------------------------------------------------------------\u001b[0m",
      "\u001b[0;31mValueError\u001b[0m                                Traceback (most recent call last)",
      "Input \u001b[0;32mIn [12]\u001b[0m, in \u001b[0;36m<cell line: 3>\u001b[0;34m()\u001b[0m\n\u001b[1;32m      1\u001b[0m \u001b[38;5;66;03m# Visualizing a model\u001b[39;00m\n\u001b[0;32m----> 3\u001b[0m \u001b[43mmodel\u001b[49m\u001b[38;5;241;43m.\u001b[39;49m\u001b[43msummary\u001b[49m\u001b[43m(\u001b[49m\u001b[43m)\u001b[49m\n",
      "File \u001b[0;32m~/miniforge3/envs/tf_cert/lib/python3.9/site-packages/keras/engine/training.py:2869\u001b[0m, in \u001b[0;36mModel.summary\u001b[0;34m(self, line_length, positions, print_fn, expand_nested, show_trainable)\u001b[0m\n\u001b[1;32m   2847\u001b[0m \u001b[38;5;124;03m\"\"\"Prints a string summary of the network.\u001b[39;00m\n\u001b[1;32m   2848\u001b[0m \n\u001b[1;32m   2849\u001b[0m \u001b[38;5;124;03mArgs:\u001b[39;00m\n\u001b[0;32m   (...)\u001b[0m\n\u001b[1;32m   2866\u001b[0m \u001b[38;5;124;03m    ValueError: if `summary()` is called before the model is built.\u001b[39;00m\n\u001b[1;32m   2867\u001b[0m \u001b[38;5;124;03m\"\"\"\u001b[39;00m\n\u001b[1;32m   2868\u001b[0m \u001b[38;5;28;01mif\u001b[39;00m \u001b[38;5;129;01mnot\u001b[39;00m \u001b[38;5;28mself\u001b[39m\u001b[38;5;241m.\u001b[39mbuilt:\n\u001b[0;32m-> 2869\u001b[0m   \u001b[38;5;28;01mraise\u001b[39;00m \u001b[38;5;167;01mValueError\u001b[39;00m(\n\u001b[1;32m   2870\u001b[0m       \u001b[38;5;124m'\u001b[39m\u001b[38;5;124mThis model has not yet been built. \u001b[39m\u001b[38;5;124m'\u001b[39m\n\u001b[1;32m   2871\u001b[0m       \u001b[38;5;124m'\u001b[39m\u001b[38;5;124mBuild the model first by calling `build()` or by calling \u001b[39m\u001b[38;5;124m'\u001b[39m\n\u001b[1;32m   2872\u001b[0m       \u001b[38;5;124m'\u001b[39m\u001b[38;5;124mthe model on a batch of data.\u001b[39m\u001b[38;5;124m'\u001b[39m)\n\u001b[1;32m   2873\u001b[0m layer_utils\u001b[38;5;241m.\u001b[39mprint_summary(\n\u001b[1;32m   2874\u001b[0m     \u001b[38;5;28mself\u001b[39m,\n\u001b[1;32m   2875\u001b[0m     line_length\u001b[38;5;241m=\u001b[39mline_length,\n\u001b[0;32m   (...)\u001b[0m\n\u001b[1;32m   2878\u001b[0m     expand_nested\u001b[38;5;241m=\u001b[39mexpand_nested,\n\u001b[1;32m   2879\u001b[0m     show_trainable\u001b[38;5;241m=\u001b[39mshow_trainable)\n",
      "\u001b[0;31mValueError\u001b[0m: This model has not yet been built. Build the model first by calling `build()` or by calling the model on a batch of data."
     ]
    }
   ],
   "source": [
    "# Visualizing a model\n",
    "\n",
    "model.summary()\n",
    "\n",
    "# error 바랫ㅇ"
   ]
  },
  {
   "cell_type": "code",
   "execution_count": 46,
   "id": "a393206f",
   "metadata": {},
   "outputs": [],
   "source": [
    "# Let's create a model which builds automatically bt defining the input_shape argument in the first layer\n",
    "\n",
    "tf.random.set_seed(42)\n",
    "# 1. Create a model\n",
    "model = tf.keras.Sequential([\n",
    "    tf.keras.layers.Dense(10, input_shape = [1], name = 'input_layer1'), # input_shape : 들어가는 데이터(위에선 1개)\n",
    "    tf.keras.layers.Dense(1, name = 'output_layer')\n",
    "], name = \"model1\")\n",
    "\n",
    "# 2. Complie a model\n",
    "model.compile(loss = tf.keras.losses.mae,\n",
    "             optimizer = tf.keras.optimizers.SGD(),\n",
    "             metrics=['mae'])\n",
    "\n",
    "# 3. Fit the model\n",
    "#model.fit(tf.expand_dims(x_train, axis = -1), y_train, epochs = 100)"
   ]
  },
  {
   "cell_type": "code",
   "execution_count": 47,
   "id": "a50753e8",
   "metadata": {},
   "outputs": [
    {
     "name": "stdout",
     "output_type": "stream",
     "text": [
      "Model: \"model1\"\n",
      "_________________________________________________________________\n",
      " Layer (type)                Output Shape              Param #   \n",
      "=================================================================\n",
      " input_layer1 (Dense)        (None, 10)                20        \n",
      "                                                                 \n",
      " output_layer (Dense)        (None, 1)                 11        \n",
      "                                                                 \n",
      "=================================================================\n",
      "Total params: 31\n",
      "Trainable params: 31\n",
      "Non-trainable params: 0\n",
      "_________________________________________________________________\n"
     ]
    }
   ],
   "source": [
    "model.summary()\n",
    "\n",
    "# fully connected model\n",
    "# param: total number of parameters in the model(x, y)\n",
    "# trainable parameters: 노드 수 * input_shape + 노드 수 = 2"
   ]
  },
  {
   "cell_type": "code",
   "execution_count": 48,
   "id": "88fef50e",
   "metadata": {
    "scrolled": true
   },
   "outputs": [
    {
     "name": "stdout",
     "output_type": "stream",
     "text": [
      "Epoch 1/100\n",
      "2/2 [==============================] - 0s 15ms/step - loss: 27.4058 - mae: 27.4058\n",
      "Epoch 2/100\n",
      "2/2 [==============================] - 0s 4ms/step - loss: 24.6339 - mae: 24.6339\n",
      "Epoch 3/100\n",
      "2/2 [==============================] - 0s 5ms/step - loss: 29.8935 - mae: 29.8935\n",
      "Epoch 4/100\n",
      "2/2 [==============================] - 0s 8ms/step - loss: 27.4055 - mae: 27.4055\n",
      "Epoch 5/100\n",
      "2/2 [==============================] - 0s 9ms/step - loss: 14.9463 - mae: 14.9463\n",
      "Epoch 6/100\n",
      "2/2 [==============================] - 0s 5ms/step - loss: 11.8819 - mae: 11.8819\n",
      "Epoch 7/100\n",
      "2/2 [==============================] - 0s 5ms/step - loss: 11.1988 - mae: 11.1988\n",
      "Epoch 8/100\n",
      "2/2 [==============================] - 0s 4ms/step - loss: 11.0910 - mae: 11.0910\n",
      "Epoch 9/100\n",
      "2/2 [==============================] - 0s 8ms/step - loss: 40.4763 - mae: 40.4763\n",
      "Epoch 10/100\n",
      "2/2 [==============================] - 0s 6ms/step - loss: 27.8687 - mae: 27.8687\n",
      "Epoch 11/100\n",
      "2/2 [==============================] - 0s 5ms/step - loss: 10.2473 - mae: 10.2473\n",
      "Epoch 12/100\n",
      "1/2 [==============>...............] - ETA: 0s - loss: 27.0853 - mae: 27.0853"
     ]
    },
    {
     "name": "stderr",
     "output_type": "stream",
     "text": [
      "2022-08-15 23:49:15.756962: I tensorflow/core/grappler/optimizers/custom_graph_optimizer_registry.cc:113] Plugin optimizer for device_type GPU is enabled.\n"
     ]
    },
    {
     "name": "stdout",
     "output_type": "stream",
     "text": [
      "2/2 [==============================] - 0s 5ms/step - loss: 25.2803 - mae: 25.2803\n",
      "Epoch 13/100\n",
      "2/2 [==============================] - 0s 5ms/step - loss: 16.9897 - mae: 16.9897\n",
      "Epoch 14/100\n",
      "2/2 [==============================] - 0s 5ms/step - loss: 25.9217 - mae: 25.9217\n",
      "Epoch 15/100\n",
      "2/2 [==============================] - 0s 4ms/step - loss: 17.9948 - mae: 17.9948\n",
      "Epoch 16/100\n",
      "2/2 [==============================] - 0s 5ms/step - loss: 7.3510 - mae: 7.3510\n",
      "Epoch 17/100\n",
      "2/2 [==============================] - 0s 9ms/step - loss: 10.8636 - mae: 10.8636\n",
      "Epoch 18/100\n",
      "2/2 [==============================] - 0s 6ms/step - loss: 19.5304 - mae: 19.5304\n",
      "Epoch 19/100\n",
      "2/2 [==============================] - 0s 4ms/step - loss: 10.3469 - mae: 10.3469\n",
      "Epoch 20/100\n",
      "2/2 [==============================] - 0s 4ms/step - loss: 17.6985 - mae: 17.6985\n",
      "Epoch 21/100\n",
      "2/2 [==============================] - 0s 6ms/step - loss: 15.8984 - mae: 15.8984\n",
      "Epoch 22/100\n",
      "2/2 [==============================] - 0s 5ms/step - loss: 14.1991 - mae: 14.1991\n",
      "Epoch 23/100\n",
      "2/2 [==============================] - 0s 4ms/step - loss: 8.7720 - mae: 8.7720\n",
      "Epoch 24/100\n",
      "2/2 [==============================] - 0s 5ms/step - loss: 11.0570 - mae: 11.0570\n",
      "Epoch 25/100\n",
      "2/2 [==============================] - 0s 5ms/step - loss: 12.6838 - mae: 12.6838\n",
      "Epoch 26/100\n",
      "2/2 [==============================] - 0s 4ms/step - loss: 26.1877 - mae: 26.1877\n",
      "Epoch 27/100\n",
      "2/2 [==============================] - 0s 7ms/step - loss: 11.7432 - mae: 11.7432\n",
      "Epoch 28/100\n",
      "2/2 [==============================] - 0s 6ms/step - loss: 22.8730 - mae: 22.8730\n",
      "Epoch 29/100\n",
      "2/2 [==============================] - 0s 5ms/step - loss: 9.2459 - mae: 9.2459\n",
      "Epoch 30/100\n",
      "2/2 [==============================] - 0s 5ms/step - loss: 29.2641 - mae: 29.2641\n",
      "Epoch 31/100\n",
      "2/2 [==============================] - 0s 5ms/step - loss: 53.0224 - mae: 53.0224\n",
      "Epoch 32/100\n",
      "2/2 [==============================] - 0s 5ms/step - loss: 11.9951 - mae: 11.9951\n",
      "Epoch 33/100\n",
      "2/2 [==============================] - 0s 4ms/step - loss: 15.6357 - mae: 15.6357\n",
      "Epoch 34/100\n",
      "2/2 [==============================] - 0s 5ms/step - loss: 12.6925 - mae: 12.6925\n",
      "Epoch 35/100\n",
      "2/2 [==============================] - 0s 6ms/step - loss: 9.2398 - mae: 9.2398\n",
      "Epoch 36/100\n",
      "2/2 [==============================] - 0s 10ms/step - loss: 16.6497 - mae: 16.6497\n",
      "Epoch 37/100\n",
      "2/2 [==============================] - 0s 4ms/step - loss: 11.0382 - mae: 11.0382\n",
      "Epoch 38/100\n",
      "2/2 [==============================] - 0s 5ms/step - loss: 18.1634 - mae: 18.1634\n",
      "Epoch 39/100\n",
      "2/2 [==============================] - 0s 5ms/step - loss: 19.1013 - mae: 19.1013\n",
      "Epoch 40/100\n",
      "2/2 [==============================] - 0s 6ms/step - loss: 20.4324 - mae: 20.4324\n",
      "Epoch 41/100\n",
      "2/2 [==============================] - 0s 6ms/step - loss: 14.9102 - mae: 14.9102\n",
      "Epoch 42/100\n",
      "2/2 [==============================] - 0s 5ms/step - loss: 12.2809 - mae: 12.2809\n",
      "Epoch 43/100\n",
      "2/2 [==============================] - 0s 5ms/step - loss: 10.7333 - mae: 10.7333\n",
      "Epoch 44/100\n",
      "2/2 [==============================] - 0s 4ms/step - loss: 23.0260 - mae: 23.0260\n",
      "Epoch 45/100\n",
      "2/2 [==============================] - 0s 6ms/step - loss: 10.3897 - mae: 10.3897\n",
      "Epoch 46/100\n",
      "2/2 [==============================] - 0s 9ms/step - loss: 11.7904 - mae: 11.7904\n",
      "Epoch 47/100\n",
      "2/2 [==============================] - 0s 5ms/step - loss: 9.6438 - mae: 9.6438\n",
      "Epoch 48/100\n",
      "2/2 [==============================] - 0s 6ms/step - loss: 17.2335 - mae: 17.2335\n",
      "Epoch 49/100\n",
      "2/2 [==============================] - 0s 6ms/step - loss: 9.5729 - mae: 9.5729\n",
      "Epoch 50/100\n",
      "2/2 [==============================] - 0s 6ms/step - loss: 13.8185 - mae: 13.8185\n",
      "Epoch 51/100\n",
      "2/2 [==============================] - 0s 5ms/step - loss: 11.5958 - mae: 11.5958\n",
      "Epoch 52/100\n",
      "2/2 [==============================] - 0s 5ms/step - loss: 30.5538 - mae: 30.5538\n",
      "Epoch 53/100\n",
      "2/2 [==============================] - 0s 9ms/step - loss: 14.3541 - mae: 14.3541\n",
      "Epoch 54/100\n",
      "2/2 [==============================] - 0s 6ms/step - loss: 23.9713 - mae: 23.9713\n",
      "Epoch 55/100\n",
      "2/2 [==============================] - 0s 4ms/step - loss: 23.1938 - mae: 23.1938\n",
      "Epoch 56/100\n",
      "2/2 [==============================] - 0s 6ms/step - loss: 10.8837 - mae: 10.8837\n",
      "Epoch 57/100\n",
      "2/2 [==============================] - 0s 5ms/step - loss: 12.7445 - mae: 12.7445\n",
      "Epoch 58/100\n",
      "2/2 [==============================] - 0s 4ms/step - loss: 9.5995 - mae: 9.5995\n",
      "Epoch 59/100\n",
      "2/2 [==============================] - 0s 5ms/step - loss: 12.5172 - mae: 12.5172\n",
      "Epoch 60/100\n",
      "2/2 [==============================] - 0s 4ms/step - loss: 12.3200 - mae: 12.3200\n",
      "Epoch 61/100\n",
      "2/2 [==============================] - 0s 4ms/step - loss: 17.4604 - mae: 17.4604\n",
      "Epoch 62/100\n",
      "2/2 [==============================] - 0s 5ms/step - loss: 10.6052 - mae: 10.6052\n",
      "Epoch 63/100\n",
      "2/2 [==============================] - 0s 5ms/step - loss: 10.4893 - mae: 10.4893\n",
      "Epoch 64/100\n",
      "2/2 [==============================] - 0s 4ms/step - loss: 24.8450 - mae: 24.8450\n",
      "Epoch 65/100\n",
      "2/2 [==============================] - 0s 5ms/step - loss: 10.6761 - mae: 10.6761\n",
      "Epoch 66/100\n",
      "2/2 [==============================] - 0s 5ms/step - loss: 21.7809 - mae: 21.7809\n",
      "Epoch 67/100\n",
      "2/2 [==============================] - 0s 5ms/step - loss: 10.7136 - mae: 10.7136\n",
      "Epoch 68/100\n",
      "2/2 [==============================] - 0s 4ms/step - loss: 10.6397 - mae: 10.6397\n",
      "Epoch 69/100\n",
      "2/2 [==============================] - 0s 4ms/step - loss: 22.6914 - mae: 22.6914\n",
      "Epoch 70/100\n",
      "2/2 [==============================] - 0s 5ms/step - loss: 9.3316 - mae: 9.3316\n",
      "Epoch 71/100\n",
      "2/2 [==============================] - 0s 4ms/step - loss: 15.4355 - mae: 15.4355\n",
      "Epoch 72/100\n",
      "2/2 [==============================] - 0s 4ms/step - loss: 6.7437 - mae: 6.7437\n",
      "Epoch 73/100\n",
      "2/2 [==============================] - 0s 4ms/step - loss: 11.6891 - mae: 11.6891\n",
      "Epoch 74/100\n",
      "2/2 [==============================] - 0s 4ms/step - loss: 24.0400 - mae: 24.0400\n",
      "Epoch 75/100\n",
      "2/2 [==============================] - 0s 5ms/step - loss: 9.5896 - mae: 9.5896\n",
      "Epoch 76/100\n",
      "2/2 [==============================] - 0s 4ms/step - loss: 12.4371 - mae: 12.4371\n",
      "Epoch 77/100\n",
      "2/2 [==============================] - 0s 4ms/step - loss: 16.6489 - mae: 16.6489\n",
      "Epoch 78/100\n",
      "2/2 [==============================] - 0s 4ms/step - loss: 9.0615 - mae: 9.0615\n",
      "Epoch 79/100\n",
      "2/2 [==============================] - 0s 4ms/step - loss: 23.9675 - mae: 23.9675\n",
      "Epoch 80/100\n",
      "2/2 [==============================] - 0s 5ms/step - loss: 26.7462 - mae: 26.7462\n",
      "Epoch 81/100\n",
      "2/2 [==============================] - 0s 4ms/step - loss: 11.6714 - mae: 11.6714\n",
      "Epoch 82/100\n",
      "2/2 [==============================] - 0s 4ms/step - loss: 12.0228 - mae: 12.0228\n",
      "Epoch 83/100\n",
      "2/2 [==============================] - 0s 4ms/step - loss: 17.4218 - mae: 17.4218\n",
      "Epoch 84/100\n",
      "2/2 [==============================] - 0s 4ms/step - loss: 7.2629 - mae: 7.2629\n",
      "Epoch 85/100\n",
      "2/2 [==============================] - 0s 4ms/step - loss: 14.9650 - mae: 14.9650\n",
      "Epoch 86/100\n",
      "2/2 [==============================] - 0s 4ms/step - loss: 15.2862 - mae: 15.2862\n",
      "Epoch 87/100\n",
      "2/2 [==============================] - 0s 5ms/step - loss: 19.1086 - mae: 19.1086\n",
      "Epoch 88/100\n",
      "2/2 [==============================] - 0s 4ms/step - loss: 29.8228 - mae: 29.8228\n",
      "Epoch 89/100\n",
      "2/2 [==============================] - 0s 4ms/step - loss: 10.1742 - mae: 10.1742\n",
      "Epoch 90/100\n",
      "2/2 [==============================] - 0s 5ms/step - loss: 21.5240 - mae: 21.5240\n",
      "Epoch 91/100\n",
      "2/2 [==============================] - 0s 4ms/step - loss: 10.5716 - mae: 10.5716\n",
      "Epoch 92/100\n",
      "2/2 [==============================] - 0s 4ms/step - loss: 18.3977 - mae: 18.3977\n",
      "Epoch 93/100\n",
      "2/2 [==============================] - 0s 4ms/step - loss: 7.4138 - mae: 7.4138\n",
      "Epoch 94/100\n",
      "2/2 [==============================] - 0s 4ms/step - loss: 17.7380 - mae: 17.7380\n",
      "Epoch 95/100\n",
      "2/2 [==============================] - 0s 5ms/step - loss: 11.1144 - mae: 11.1144\n",
      "Epoch 96/100\n",
      "2/2 [==============================] - 0s 4ms/step - loss: 19.4346 - mae: 19.4346\n",
      "Epoch 97/100\n",
      "2/2 [==============================] - 0s 4ms/step - loss: 12.1593 - mae: 12.1593\n",
      "Epoch 98/100\n"
     ]
    },
    {
     "name": "stdout",
     "output_type": "stream",
     "text": [
      "2/2 [==============================] - 0s 5ms/step - loss: 11.5653 - mae: 11.5653\n",
      "Epoch 99/100\n",
      "2/2 [==============================] - 0s 4ms/step - loss: 13.8827 - mae: 13.8827\n",
      "Epoch 100/100\n",
      "2/2 [==============================] - 0s 6ms/step - loss: 20.2277 - mae: 20.2277\n"
     ]
    },
    {
     "data": {
      "text/plain": [
       "<keras.callbacks.History at 0x29ef5fa00>"
      ]
     },
     "execution_count": 48,
     "metadata": {},
     "output_type": "execute_result"
    }
   ],
   "source": [
    "model.fit(x_train, y_train, epochs = 100, verbose = 1)"
   ]
  },
  {
   "cell_type": "code",
   "execution_count": 49,
   "id": "9b83fbc0",
   "metadata": {
    "scrolled": true
   },
   "outputs": [
    {
     "data": {
      "image/png": "[encoded data removed]",
      "text/plain": [
       "<IPython.core.display.Image object>"
      ]
     },
     "execution_count": 49,
     "metadata": {},
     "output_type": "execute_result"
    }
   ],
   "source": [
    "from tensorflow.keras.utils import plot_model\n",
    "\n",
    "plot_model(model = model, show_shapes = True)"
   ]
  },
  {
   "cell_type": "markdown",
   "id": "30e54bf4",
   "metadata": {},
   "source": [
    "## Visualizing our model's predictions"
   ]
  },
  {
   "cell_type": "code",
   "execution_count": 50,
   "id": "d4080712",
   "metadata": {},
   "outputs": [
    {
     "data": {
      "text/plain": [
       "<tf.Tensor: shape=(10,), dtype=int32, numpy=array([ 70,  74,  78,  82,  86,  90,  94,  98, 102, 106], dtype=int32)>"
      ]
     },
     "execution_count": 50,
     "metadata": {},
     "output_type": "execute_result"
    }
   ],
   "source": [
    "y_test"
   ]
  },
  {
   "cell_type": "code",
   "execution_count": 86,
   "id": "41a99b56",
   "metadata": {},
   "outputs": [
    {
     "name": "stdout",
     "output_type": "stream",
     "text": [
      "1/1 [==============================] - 0s 9ms/step\n"
     ]
    },
    {
     "data": {
      "text/plain": [
       "array([[ 70.55218 ],\n",
       "       [ 75.1399  ],\n",
       "       [ 79.72763 ],\n",
       "       [ 84.315346],\n",
       "       [ 88.90307 ],\n",
       "       [ 93.4908  ],\n",
       "       [ 98.078514],\n",
       "       [102.66624 ],\n",
       "       [107.25397 ],\n",
       "       [111.84169 ]], dtype=float32)"
      ]
     },
     "execution_count": 86,
     "metadata": {},
     "output_type": "execute_result"
    }
   ],
   "source": [
    "# Make some predictions\n",
    "y_pred = model.predict(x_test)\n",
    "y_pred"
   ]
  },
  {
   "cell_type": "code",
   "execution_count": 52,
   "id": "f9729819",
   "metadata": {},
   "outputs": [],
   "source": [
    "# Let's create a plotting function\n",
    "def plot_predictions(train_data = x_train, train_labels = y_train, test_data = x_test, test_labels = y_test, predictions = y_pred):\n",
    "    plt.figure(figsize = (10,7))\n",
    "    plt.scatter(train_data, train_labels, c = 'b', label = 'Training data')\n",
    "    plt.scatter(test_data, test_labels, c = 'g', label = 'Testing data')\n",
    "    plt.scatter(test_data, predictions, c = 'r', label = 'Predictions')\n",
    "    plt.legend()\n",
    "    plt.show()"
   ]
  },
  {
   "cell_type": "code",
   "execution_count": 53,
   "id": "0dc0280d",
   "metadata": {},
   "outputs": [
    {
     "data": {
      "image/png": "[encoded data removed]",
      "text/plain": [
       "<Figure size 720x504 with 1 Axes>"
      ]
     },
     "metadata": {
      "needs_background": "light"
     },
     "output_type": "display_data"
    }
   ],
   "source": [
    "plot_predictions()"
   ]
  },
  {
   "cell_type": "markdown",
   "id": "e0e71aef",
   "metadata": {},
   "source": [
    "## Evaluating our model's predictions with regression evaluation metrics\n",
    "\n",
    "    - MAE(mean absolute error)\n",
    "    - MSE(mean square error)"
   ]
  },
  {
   "cell_type": "code",
   "execution_count": 84,
   "id": "7f07f0bd",
   "metadata": {},
   "outputs": [
    {
     "name": "stdout",
     "output_type": "stream",
     "text": [
      "1/1 [==============================] - 0s 15ms/step - loss: 3.1969 - mae: 3.1969\n"
     ]
    },
    {
     "data": {
      "text/plain": [
       "[3.1969330310821533, 3.1969330310821533]"
      ]
     },
     "execution_count": 84,
     "metadata": {},
     "output_type": "execute_result"
    }
   ],
   "source": [
    "model.evaluate(x_test, y_test)"
   ]
  },
  {
   "cell_type": "code",
   "execution_count": 62,
   "id": "fbe622c4",
   "metadata": {},
   "outputs": [
    {
     "data": {
      "text/plain": [
       "<tf.Tensor: shape=(), dtype=float32, numpy=3.196933>"
      ]
     },
     "execution_count": 62,
     "metadata": {},
     "output_type": "execute_result"
    }
   ],
   "source": [
    "# Calcuate the mean absolute error\n",
    "mae = tf.metrics.mean_absolute_error(y_test, tf.squeeze(y_pred))\n",
    "mae\n",
    "\n",
    "# Must reshaping tensors"
   ]
  },
  {
   "cell_type": "code",
   "execution_count": 63,
   "id": "ef0c90c9",
   "metadata": {},
   "outputs": [
    {
     "data": {
      "text/plain": [
       "<tf.Tensor: shape=(), dtype=float32, numpy=13.070086>"
      ]
     },
     "execution_count": 63,
     "metadata": {},
     "output_type": "execute_result"
    }
   ],
   "source": [
    "# Calculate MSE\n",
    "\n",
    "mse = tf.metrics.mean_squared_error(y_test, tf.squeeze(y_pred))\n",
    "mse"
   ]
  },
  {
   "cell_type": "code",
   "execution_count": 71,
   "id": "15b94c9e",
   "metadata": {},
   "outputs": [],
   "source": [
    "# Make some functions to reuse MAE and MSE\n",
    "def mae(y_true, y_pred):\n",
    "    return tf.metrics.mean_absolute_error(y_true = y_true, y_pred = tf.squeeze(y_pred))\n",
    "\n",
    "def mse(y_true, y_pred):\n",
    "    return tf.metrics.mean_squared_error(y_true = y_true, y_pred = tf.squeeze(y_pred))"
   ]
  },
  {
   "cell_type": "code",
   "execution_count": 65,
   "id": "1b33008b",
   "metadata": {},
   "outputs": [],
   "source": [
    "# model_1 -> same as the original model\n",
    "# model_2 -> 2 layers, trained for 100 epochs\n",
    "# model_3 -> 2 layers, trained for 500 epochs"
   ]
  },
  {
   "cell_type": "code",
   "execution_count": 67,
   "id": "f22ba34e",
   "metadata": {},
   "outputs": [
    {
     "name": "stdout",
     "output_type": "stream",
     "text": [
      "Epoch 1/100\n",
      "2/2 [==============================] - 0s 14ms/step - loss: 15.9024 - mae: 15.9024\n",
      "Epoch 2/100\n",
      "2/2 [==============================] - 0s 6ms/step - loss: 11.2837 - mae: 11.2837\n",
      "Epoch 3/100\n",
      "2/2 [==============================] - 0s 8ms/step - loss: 11.1074 - mae: 11.1074\n",
      "Epoch 4/100\n",
      "2/2 [==============================] - 0s 4ms/step - loss: 9.2991 - mae: 9.2991\n",
      "Epoch 5/100\n",
      "2/2 [==============================] - 0s 5ms/step - loss: 10.1677 - mae: 10.1677\n",
      "Epoch 6/100\n",
      "2/2 [==============================] - 0s 4ms/step - loss: 9.4303 - mae: 9.4303\n",
      "Epoch 7/100\n",
      "2/2 [==============================] - 0s 4ms/step - loss: 8.5704 - mae: 8.5704\n",
      "Epoch 8/100\n",
      "2/2 [==============================] - 0s 6ms/step - loss: 9.0442 - mae: 9.0442\n",
      "Epoch 9/100\n",
      "2/2 [==============================] - 0s 9ms/step - loss: 18.7517 - mae: 18.7517\n",
      "Epoch 10/100\n",
      "2/2 [==============================] - 0s 8ms/step - loss: 10.1142 - mae: 10.1142\n",
      "Epoch 11/100\n",
      "2/2 [==============================] - 0s 8ms/step - loss: 8.3980 - mae: 8.3980\n",
      "Epoch 12/100\n"
     ]
    },
    {
     "name": "stderr",
     "output_type": "stream",
     "text": [
      "2022-08-16 18:27:52.696566: I tensorflow/core/grappler/optimizers/custom_graph_optimizer_registry.cc:113] Plugin optimizer for device_type GPU is enabled.\n"
     ]
    },
    {
     "name": "stdout",
     "output_type": "stream",
     "text": [
      "2/2 [==============================] - 0s 6ms/step - loss: 10.6639 - mae: 10.6639\n",
      "Epoch 13/100\n",
      "2/2 [==============================] - 0s 9ms/step - loss: 9.7977 - mae: 9.7977\n",
      "Epoch 14/100\n",
      "2/2 [==============================] - 0s 6ms/step - loss: 16.0103 - mae: 16.0103\n",
      "Epoch 15/100\n",
      "2/2 [==============================] - 0s 6ms/step - loss: 11.4068 - mae: 11.4068\n",
      "Epoch 16/100\n",
      "2/2 [==============================] - 0s 5ms/step - loss: 8.5393 - mae: 8.5393\n",
      "Epoch 17/100\n",
      "2/2 [==============================] - 0s 4ms/step - loss: 13.6348 - mae: 13.6348\n",
      "Epoch 18/100\n",
      "2/2 [==============================] - 0s 5ms/step - loss: 11.4629 - mae: 11.4629\n",
      "Epoch 19/100\n",
      "2/2 [==============================] - 0s 7ms/step - loss: 17.9148 - mae: 17.9148\n",
      "Epoch 20/100\n",
      "2/2 [==============================] - 0s 9ms/step - loss: 15.0494 - mae: 15.0494\n",
      "Epoch 21/100\n",
      "2/2 [==============================] - 0s 9ms/step - loss: 11.0216 - mae: 11.0216\n",
      "Epoch 22/100\n",
      "2/2 [==============================] - 0s 5ms/step - loss: 8.1558 - mae: 8.1558\n",
      "Epoch 23/100\n",
      "2/2 [==============================] - 0s 5ms/step - loss: 9.5138 - mae: 9.5138\n",
      "Epoch 24/100\n",
      "2/2 [==============================] - 0s 4ms/step - loss: 7.6617 - mae: 7.6617\n",
      "Epoch 25/100\n",
      "2/2 [==============================] - 0s 5ms/step - loss: 13.1860 - mae: 13.1860\n",
      "Epoch 26/100\n",
      "2/2 [==============================] - 0s 7ms/step - loss: 16.4211 - mae: 16.4211\n",
      "Epoch 27/100\n",
      "2/2 [==============================] - 0s 8ms/step - loss: 13.1660 - mae: 13.1660\n",
      "Epoch 28/100\n",
      "2/2 [==============================] - 0s 6ms/step - loss: 14.2559 - mae: 14.2559\n",
      "Epoch 29/100\n",
      "2/2 [==============================] - 0s 6ms/step - loss: 10.0670 - mae: 10.0670\n",
      "Epoch 30/100\n",
      "2/2 [==============================] - 0s 5ms/step - loss: 16.3409 - mae: 16.3409\n",
      "Epoch 31/100\n",
      "2/2 [==============================] - 0s 7ms/step - loss: 23.6444 - mae: 23.6444\n",
      "Epoch 32/100\n",
      "2/2 [==============================] - 0s 6ms/step - loss: 7.6215 - mae: 7.6215\n",
      "Epoch 33/100\n",
      "2/2 [==============================] - 0s 5ms/step - loss: 9.3221 - mae: 9.3221\n",
      "Epoch 34/100\n",
      "2/2 [==============================] - 0s 5ms/step - loss: 13.7313 - mae: 13.7313\n",
      "Epoch 35/100\n",
      "2/2 [==============================] - 0s 7ms/step - loss: 11.1276 - mae: 11.1276\n",
      "Epoch 36/100\n",
      "2/2 [==============================] - 0s 7ms/step - loss: 13.3222 - mae: 13.3222\n",
      "Epoch 37/100\n",
      "2/2 [==============================] - 0s 6ms/step - loss: 9.4763 - mae: 9.4763\n",
      "Epoch 38/100\n",
      "2/2 [==============================] - 0s 6ms/step - loss: 10.1381 - mae: 10.1381\n",
      "Epoch 39/100\n",
      "2/2 [==============================] - 0s 8ms/step - loss: 10.1793 - mae: 10.1793\n",
      "Epoch 40/100\n",
      "2/2 [==============================] - 0s 7ms/step - loss: 10.9137 - mae: 10.9137\n",
      "Epoch 41/100\n",
      "2/2 [==============================] - 0s 5ms/step - loss: 7.9063 - mae: 7.9063\n",
      "Epoch 42/100\n",
      "2/2 [==============================] - 0s 5ms/step - loss: 10.0914 - mae: 10.0914\n",
      "Epoch 43/100\n",
      "2/2 [==============================] - 0s 6ms/step - loss: 8.7006 - mae: 8.7006\n",
      "Epoch 44/100\n",
      "2/2 [==============================] - 0s 7ms/step - loss: 12.2047 - mae: 12.2047\n",
      "Epoch 45/100\n",
      "2/2 [==============================] - 0s 9ms/step - loss: 13.7970 - mae: 13.7970\n",
      "Epoch 46/100\n",
      "2/2 [==============================] - 0s 9ms/step - loss: 8.4687 - mae: 8.4687\n",
      "Epoch 47/100\n",
      "2/2 [==============================] - 0s 6ms/step - loss: 9.1330 - mae: 9.1330\n",
      "Epoch 48/100\n",
      "2/2 [==============================] - 0s 6ms/step - loss: 10.6190 - mae: 10.6190\n",
      "Epoch 49/100\n",
      "2/2 [==============================] - 0s 5ms/step - loss: 7.7503 - mae: 7.7503\n",
      "Epoch 50/100\n",
      "2/2 [==============================] - 0s 5ms/step - loss: 9.5407 - mae: 9.5407\n",
      "Epoch 51/100\n",
      "2/2 [==============================] - 0s 5ms/step - loss: 9.1584 - mae: 9.1584\n",
      "Epoch 52/100\n",
      "2/2 [==============================] - 0s 9ms/step - loss: 16.3630 - mae: 16.3630\n",
      "Epoch 53/100\n",
      "2/2 [==============================] - 0s 4ms/step - loss: 14.1299 - mae: 14.1299\n",
      "Epoch 54/100\n",
      "2/2 [==============================] - 0s 8ms/step - loss: 21.1247 - mae: 21.1247\n",
      "Epoch 55/100\n",
      "2/2 [==============================] - 0s 4ms/step - loss: 16.3961 - mae: 16.3961\n",
      "Epoch 56/100\n",
      "2/2 [==============================] - 0s 6ms/step - loss: 9.9806 - mae: 9.9806\n",
      "Epoch 57/100\n",
      "2/2 [==============================] - 0s 7ms/step - loss: 9.9606 - mae: 9.9606\n",
      "Epoch 58/100\n",
      "2/2 [==============================] - 0s 6ms/step - loss: 9.2209 - mae: 9.2209\n",
      "Epoch 59/100\n",
      "2/2 [==============================] - 0s 5ms/step - loss: 8.4239 - mae: 8.4239\n",
      "Epoch 60/100\n",
      "2/2 [==============================] - 0s 4ms/step - loss: 9.4869 - mae: 9.4869\n",
      "Epoch 61/100\n",
      "2/2 [==============================] - 0s 4ms/step - loss: 11.4355 - mae: 11.4355\n",
      "Epoch 62/100\n",
      "2/2 [==============================] - 0s 4ms/step - loss: 11.6887 - mae: 11.6887\n",
      "Epoch 63/100\n",
      "2/2 [==============================] - 0s 5ms/step - loss: 7.0838 - mae: 7.0838\n",
      "Epoch 64/100\n",
      "2/2 [==============================] - 0s 4ms/step - loss: 16.9675 - mae: 16.9675\n",
      "Epoch 65/100\n",
      "2/2 [==============================] - 0s 4ms/step - loss: 12.4599 - mae: 12.4599\n",
      "Epoch 66/100\n",
      "2/2 [==============================] - 0s 4ms/step - loss: 13.0184 - mae: 13.0184\n",
      "Epoch 67/100\n",
      "2/2 [==============================] - 0s 4ms/step - loss: 8.0600 - mae: 8.0600\n",
      "Epoch 68/100\n",
      "2/2 [==============================] - 0s 4ms/step - loss: 10.1888 - mae: 10.1888\n",
      "Epoch 69/100\n",
      "2/2 [==============================] - 0s 5ms/step - loss: 12.3633 - mae: 12.3633\n",
      "Epoch 70/100\n",
      "2/2 [==============================] - 0s 4ms/step - loss: 9.0516 - mae: 9.0516\n",
      "Epoch 71/100\n",
      "2/2 [==============================] - 0s 5ms/step - loss: 10.0378 - mae: 10.0378\n",
      "Epoch 72/100\n",
      "2/2 [==============================] - 0s 4ms/step - loss: 10.0516 - mae: 10.0516\n",
      "Epoch 73/100\n",
      "2/2 [==============================] - 0s 4ms/step - loss: 12.6151 - mae: 12.6151\n",
      "Epoch 74/100\n",
      "2/2 [==============================] - 0s 4ms/step - loss: 10.3819 - mae: 10.3819\n",
      "Epoch 75/100\n",
      "2/2 [==============================] - 0s 4ms/step - loss: 9.7229 - mae: 9.7229\n",
      "Epoch 76/100\n",
      "2/2 [==============================] - 0s 5ms/step - loss: 11.2252 - mae: 11.2252\n",
      "Epoch 77/100\n",
      "2/2 [==============================] - 0s 4ms/step - loss: 8.3642 - mae: 8.3642\n",
      "Epoch 78/100\n",
      "2/2 [==============================] - 0s 5ms/step - loss: 9.1274 - mae: 9.1274\n",
      "Epoch 79/100\n",
      "2/2 [==============================] - 0s 4ms/step - loss: 19.5039 - mae: 19.5039\n",
      "Epoch 80/100\n",
      "2/2 [==============================] - 0s 4ms/step - loss: 14.8945 - mae: 14.8945\n",
      "Epoch 81/100\n",
      "2/2 [==============================] - 0s 4ms/step - loss: 9.0034 - mae: 9.0034\n",
      "Epoch 82/100\n",
      "2/2 [==============================] - 0s 5ms/step - loss: 13.0206 - mae: 13.0206\n",
      "Epoch 83/100\n",
      "2/2 [==============================] - 0s 5ms/step - loss: 7.9299 - mae: 7.9299\n",
      "Epoch 84/100\n",
      "2/2 [==============================] - 0s 4ms/step - loss: 7.6872 - mae: 7.6872\n",
      "Epoch 85/100\n",
      "2/2 [==============================] - 0s 4ms/step - loss: 10.0328 - mae: 10.0328\n",
      "Epoch 86/100\n",
      "2/2 [==============================] - 0s 5ms/step - loss: 9.2433 - mae: 9.2433\n",
      "Epoch 87/100\n",
      "2/2 [==============================] - 0s 4ms/step - loss: 12.0209 - mae: 12.0209\n",
      "Epoch 88/100\n",
      "2/2 [==============================] - 0s 5ms/step - loss: 10.6389 - mae: 10.6389\n",
      "Epoch 89/100\n",
      "2/2 [==============================] - 0s 4ms/step - loss: 7.2667 - mae: 7.2667\n",
      "Epoch 90/100\n",
      "2/2 [==============================] - 0s 5ms/step - loss: 12.7786 - mae: 12.7786\n",
      "Epoch 91/100\n",
      "2/2 [==============================] - 0s 4ms/step - loss: 7.3481 - mae: 7.3481\n",
      "Epoch 92/100\n",
      "2/2 [==============================] - 0s 4ms/step - loss: 7.7175 - mae: 7.7175\n",
      "Epoch 93/100\n",
      "2/2 [==============================] - 0s 5ms/step - loss: 7.1263 - mae: 7.1263\n",
      "Epoch 94/100\n",
      "2/2 [==============================] - 0s 4ms/step - loss: 12.6190 - mae: 12.6190\n",
      "Epoch 95/100\n",
      "2/2 [==============================] - 0s 4ms/step - loss: 10.0912 - mae: 10.0912\n",
      "Epoch 96/100\n",
      "2/2 [==============================] - 0s 5ms/step - loss: 9.3558 - mae: 9.3558\n",
      "Epoch 97/100\n",
      "2/2 [==============================] - 0s 4ms/step - loss: 12.6834 - mae: 12.6834\n",
      "Epoch 98/100\n",
      "2/2 [==============================] - 0s 4ms/step - loss: 8.6762 - mae: 8.6762\n",
      "Epoch 99/100\n"
     ]
    },
    {
     "name": "stdout",
     "output_type": "stream",
     "text": [
      "2/2 [==============================] - 0s 5ms/step - loss: 9.4693 - mae: 9.4693\n",
      "Epoch 100/100\n",
      "2/2 [==============================] - 0s 4ms/step - loss: 8.7067 - mae: 8.7067\n"
     ]
    },
    {
     "data": {
      "text/plain": [
       "<keras.callbacks.History at 0x2afa2f490>"
      ]
     },
     "execution_count": 67,
     "metadata": {},
     "output_type": "execute_result"
    }
   ],
   "source": [
    "# Build model_1\n",
    "\n",
    "tf.random.set_seed(42)\n",
    "\n",
    "model_1 = tf.keras.Sequential([\n",
    "    tf.keras.layers.Dense(1)\n",
    "])\n",
    "model_1.compile(loss = tf.keras.losses.mae,\n",
    "               optimizer = tf.keras.optimizers.SGD(),\n",
    "               metrics = ['mae'])\n",
    "model_1.fit(tf.expand_dims(x_train, axis = -1), y_train, epochs = 100)"
   ]
  },
  {
   "cell_type": "code",
   "execution_count": 82,
   "id": "4cfef595",
   "metadata": {},
   "outputs": [
    {
     "name": "stdout",
     "output_type": "stream",
     "text": [
      "1/1 [==============================] - 0s 10ms/step\n"
     ]
    },
    {
     "data": {
      "image/png": "[encoded data removed]",
      "text/plain": [
       "<Figure size 720x504 with 1 Axes>"
      ]
     },
     "metadata": {
      "needs_background": "light"
     },
     "output_type": "display_data"
    }
   ],
   "source": [
    "# make and plot predictions for model_1\n",
    "y_pred_1 = model_1.predict(x_test)\n",
    "plot_predictions(predictions = y_pred_1)"
   ]
  },
  {
   "cell_type": "code",
   "execution_count": 72,
   "id": "9e8049b0",
   "metadata": {},
   "outputs": [
    {
     "data": {
      "text/plain": [
       "(<tf.Tensor: shape=(), dtype=float32, numpy=18.745329>,\n",
       " <tf.Tensor: shape=(), dtype=float32, numpy=353.57336>)"
      ]
     },
     "execution_count": 72,
     "metadata": {},
     "output_type": "execute_result"
    }
   ],
   "source": [
    "# Calculate model_1 evaluation metrics\n",
    "mae_1 = mae(y_test, y_pred_1)\n",
    "mse_1 = mse(y_test, y_pred_1)\n",
    "mae_1, mse_1"
   ]
  },
  {
   "cell_type": "code",
   "execution_count": 76,
   "id": "04fa5fbd",
   "metadata": {},
   "outputs": [
    {
     "name": "stdout",
     "output_type": "stream",
     "text": [
      "Epoch 1/100\n",
      "2/2 [==============================] - 0s 20ms/step - loss: 27.4058 - mse: 1084.1482\n",
      "Epoch 2/100\n",
      "2/2 [==============================] - 0s 5ms/step - loss: 24.6339 - mse: 777.9203\n",
      "Epoch 3/100\n",
      "2/2 [==============================] - 0s 7ms/step - loss: 29.8935 - mse: 1334.8956\n",
      "Epoch 4/100\n",
      "2/2 [==============================] - 0s 8ms/step - loss: 27.4055 - mse: 1106.8035\n",
      "Epoch 5/100\n",
      "2/2 [==============================] - 0s 7ms/step - loss: 14.9463 - mse: 281.1077\n",
      "Epoch 6/100\n",
      "2/2 [==============================] - 0s 5ms/step - loss: 11.8819 - mse: 168.6622\n",
      "Epoch 7/100\n",
      "2/2 [==============================] - 0s 8ms/step - loss: 11.1988 - mse: 151.3509\n",
      "Epoch 8/100\n",
      "2/2 [==============================] - 0s 7ms/step - loss: 11.0910 - mse: 160.3745\n",
      "Epoch 9/100\n",
      "2/2 [==============================] - 0s 7ms/step - loss: 40.4763 - mse: 2586.0088\n",
      "Epoch 10/100\n",
      "1/2 [==============>...............] - ETA: 0s - loss: 29.3236 - mse: 1200.5778"
     ]
    },
    {
     "name": "stderr",
     "output_type": "stream",
     "text": [
      "2022-08-16 18:35:31.641720: I tensorflow/core/grappler/optimizers/custom_graph_optimizer_registry.cc:113] Plugin optimizer for device_type GPU is enabled.\n"
     ]
    },
    {
     "name": "stdout",
     "output_type": "stream",
     "text": [
      "2/2 [==============================] - 0s 6ms/step - loss: 27.8687 - mse: 1094.4381\n",
      "Epoch 11/100\n",
      "2/2 [==============================] - 0s 5ms/step - loss: 10.2473 - mse: 147.9359\n",
      "Epoch 12/100\n",
      "2/2 [==============================] - 0s 5ms/step - loss: 25.2803 - mse: 890.3867\n",
      "Epoch 13/100\n",
      "2/2 [==============================] - 0s 5ms/step - loss: 16.9897 - mse: 399.9679\n",
      "Epoch 14/100\n",
      "2/2 [==============================] - 0s 5ms/step - loss: 25.9217 - mse: 1049.5520\n",
      "Epoch 15/100\n",
      "2/2 [==============================] - 0s 5ms/step - loss: 17.9948 - mse: 450.2582\n",
      "Epoch 16/100\n",
      "2/2 [==============================] - 0s 5ms/step - loss: 7.3510 - mse: 80.6206\n",
      "Epoch 17/100\n",
      "2/2 [==============================] - 0s 7ms/step - loss: 10.8636 - mse: 174.7868\n",
      "Epoch 18/100\n",
      "2/2 [==============================] - 0s 5ms/step - loss: 19.5304 - mse: 565.8051\n",
      "Epoch 19/100\n",
      "2/2 [==============================] - 0s 5ms/step - loss: 10.3469 - mse: 167.7749\n",
      "Epoch 20/100\n",
      "2/2 [==============================] - 0s 7ms/step - loss: 17.6985 - mse: 455.7095\n",
      "Epoch 21/100\n",
      "2/2 [==============================] - 0s 7ms/step - loss: 15.8984 - mse: 347.1928\n",
      "Epoch 22/100\n",
      "2/2 [==============================] - 0s 5ms/step - loss: 14.1991 - mse: 285.1766\n",
      "Epoch 23/100\n",
      "2/2 [==============================] - 0s 5ms/step - loss: 8.7720 - mse: 91.7852\n",
      "Epoch 24/100\n",
      "2/2 [==============================] - 0s 11ms/step - loss: 11.0570 - mse: 153.7430\n",
      "Epoch 25/100\n",
      "2/2 [==============================] - 0s 5ms/step - loss: 12.6838 - mse: 233.2950\n",
      "Epoch 26/100\n",
      "2/2 [==============================] - 0s 5ms/step - loss: 26.1877 - mse: 1024.6093\n",
      "Epoch 27/100\n",
      "2/2 [==============================] - 0s 5ms/step - loss: 11.7432 - mse: 194.8453\n",
      "Epoch 28/100\n",
      "2/2 [==============================] - 0s 6ms/step - loss: 22.8730 - mse: 835.6071\n",
      "Epoch 29/100\n",
      "2/2 [==============================] - 0s 9ms/step - loss: 9.2459 - mse: 96.7787\n",
      "Epoch 30/100\n",
      "2/2 [==============================] - 0s 7ms/step - loss: 29.2641 - mse: 1535.1339\n",
      "Epoch 31/100\n",
      "2/2 [==============================] - 0s 5ms/step - loss: 53.0224 - mse: 5030.2949\n",
      "Epoch 32/100\n",
      "2/2 [==============================] - 0s 7ms/step - loss: 11.9951 - mse: 211.7023\n",
      "Epoch 33/100\n",
      "2/2 [==============================] - 0s 6ms/step - loss: 15.6357 - mse: 337.3665\n",
      "Epoch 34/100\n",
      "2/2 [==============================] - 0s 7ms/step - loss: 12.6925 - mse: 214.4822\n",
      "Epoch 35/100\n",
      "2/2 [==============================] - 0s 7ms/step - loss: 9.2398 - mse: 92.9126\n",
      "Epoch 36/100\n",
      "2/2 [==============================] - 0s 8ms/step - loss: 16.6497 - mse: 403.6570\n",
      "Epoch 37/100\n",
      "2/2 [==============================] - 0s 7ms/step - loss: 11.0382 - mse: 192.3919\n",
      "Epoch 38/100\n",
      "2/2 [==============================] - 0s 6ms/step - loss: 18.1634 - mse: 433.6718\n",
      "Epoch 39/100\n",
      "2/2 [==============================] - 0s 6ms/step - loss: 19.1013 - mse: 529.6442\n",
      "Epoch 40/100\n",
      "2/2 [==============================] - 0s 5ms/step - loss: 20.4324 - mse: 610.1326\n",
      "Epoch 41/100\n",
      "2/2 [==============================] - 0s 5ms/step - loss: 14.9102 - mse: 279.6182\n",
      "Epoch 42/100\n",
      "2/2 [==============================] - 0s 7ms/step - loss: 12.2809 - mse: 186.6179\n",
      "Epoch 43/100\n",
      "2/2 [==============================] - 0s 7ms/step - loss: 10.7333 - mse: 167.0951\n",
      "Epoch 44/100\n",
      "2/2 [==============================] - 0s 7ms/step - loss: 23.0260 - mse: 830.4240\n",
      "Epoch 45/100\n",
      "2/2 [==============================] - 0s 5ms/step - loss: 10.3897 - mse: 128.9549\n",
      "Epoch 46/100\n",
      "2/2 [==============================] - 0s 7ms/step - loss: 11.7904 - mse: 181.9211\n",
      "Epoch 47/100\n",
      "2/2 [==============================] - 0s 5ms/step - loss: 9.6438 - mse: 153.8708\n",
      "Epoch 48/100\n",
      "2/2 [==============================] - 0s 7ms/step - loss: 17.2335 - mse: 402.8496\n",
      "Epoch 49/100\n",
      "2/2 [==============================] - 0s 5ms/step - loss: 9.5729 - mse: 99.8336\n",
      "Epoch 50/100\n",
      "2/2 [==============================] - 0s 7ms/step - loss: 13.8185 - mse: 260.3669\n",
      "Epoch 51/100\n",
      "2/2 [==============================] - 0s 4ms/step - loss: 11.5958 - mse: 154.7955\n",
      "Epoch 52/100\n",
      "2/2 [==============================] - 0s 4ms/step - loss: 30.5538 - mse: 1613.0881\n",
      "Epoch 53/100\n",
      "2/2 [==============================] - 0s 6ms/step - loss: 14.3541 - mse: 302.5291\n",
      "Epoch 54/100\n",
      "2/2 [==============================] - 0s 10ms/step - loss: 23.9713 - mse: 859.3983\n",
      "Epoch 55/100\n",
      "2/2 [==============================] - 0s 4ms/step - loss: 23.1938 - mse: 805.5446\n",
      "Epoch 56/100\n",
      "2/2 [==============================] - 0s 5ms/step - loss: 10.8837 - mse: 170.9834\n",
      "Epoch 57/100\n",
      "2/2 [==============================] - 0s 5ms/step - loss: 12.7445 - mse: 198.7014\n",
      "Epoch 58/100\n",
      "2/2 [==============================] - 0s 5ms/step - loss: 9.5995 - mse: 102.5890\n",
      "Epoch 59/100\n",
      "2/2 [==============================] - 0s 4ms/step - loss: 12.5172 - mse: 216.3366\n",
      "Epoch 60/100\n",
      "2/2 [==============================] - 0s 4ms/step - loss: 12.3200 - mse: 208.6370\n",
      "Epoch 61/100\n",
      "2/2 [==============================] - 0s 6ms/step - loss: 17.4604 - mse: 428.6392\n",
      "Epoch 62/100\n",
      "2/2 [==============================] - 0s 4ms/step - loss: 10.6052 - mse: 136.9776\n",
      "Epoch 63/100\n",
      "2/2 [==============================] - 0s 4ms/step - loss: 10.4893 - mse: 152.4554\n",
      "Epoch 64/100\n",
      "2/2 [==============================] - 0s 5ms/step - loss: 24.8450 - mse: 911.7508\n",
      "Epoch 65/100\n",
      "2/2 [==============================] - 0s 5ms/step - loss: 10.6761 - mse: 142.7374\n",
      "Epoch 66/100\n",
      "2/2 [==============================] - 0s 4ms/step - loss: 21.7809 - mse: 704.4488\n",
      "Epoch 67/100\n",
      "2/2 [==============================] - 0s 5ms/step - loss: 10.7136 - mse: 136.0194\n",
      "Epoch 68/100\n",
      "2/2 [==============================] - 0s 5ms/step - loss: 10.6397 - mse: 149.2299\n",
      "Epoch 69/100\n",
      "2/2 [==============================] - 0s 5ms/step - loss: 22.6914 - mse: 742.1760\n",
      "Epoch 70/100\n",
      "2/2 [==============================] - 0s 6ms/step - loss: 9.3316 - mse: 166.1628\n",
      "Epoch 71/100\n",
      "2/2 [==============================] - 0s 5ms/step - loss: 15.4355 - mse: 323.0843\n",
      "Epoch 72/100\n",
      "2/2 [==============================] - 0s 5ms/step - loss: 6.7437 - mse: 67.0210\n",
      "Epoch 73/100\n",
      "2/2 [==============================] - 0s 5ms/step - loss: 11.6891 - mse: 183.7296\n",
      "Epoch 74/100\n",
      "2/2 [==============================] - 0s 4ms/step - loss: 24.0400 - mse: 908.8994\n",
      "Epoch 75/100\n",
      "2/2 [==============================] - 0s 4ms/step - loss: 9.5896 - mse: 149.3948\n",
      "Epoch 76/100\n",
      "2/2 [==============================] - 0s 4ms/step - loss: 12.4371 - mse: 188.3310\n",
      "Epoch 77/100\n",
      "2/2 [==============================] - 0s 5ms/step - loss: 16.6489 - mse: 429.2708\n",
      "Epoch 78/100\n",
      "2/2 [==============================] - 0s 5ms/step - loss: 9.0615 - mse: 95.4870\n",
      "Epoch 79/100\n",
      "2/2 [==============================] - 0s 5ms/step - loss: 23.9675 - mse: 864.0864\n",
      "Epoch 80/100\n",
      "2/2 [==============================] - 0s 4ms/step - loss: 26.7462 - mse: 1104.4027\n",
      "Epoch 81/100\n",
      "2/2 [==============================] - 0s 4ms/step - loss: 11.6714 - mse: 170.7055\n",
      "Epoch 82/100\n",
      "2/2 [==============================] - 0s 5ms/step - loss: 12.0228 - mse: 211.9191\n",
      "Epoch 83/100\n",
      "2/2 [==============================] - 0s 5ms/step - loss: 17.4218 - mse: 395.5589\n",
      "Epoch 84/100\n",
      "2/2 [==============================] - 0s 5ms/step - loss: 7.2629 - mse: 73.0935\n",
      "Epoch 85/100\n",
      "2/2 [==============================] - 0s 5ms/step - loss: 14.9650 - mse: 312.8362\n",
      "Epoch 86/100\n",
      "2/2 [==============================] - 0s 5ms/step - loss: 15.2862 - mse: 315.3606\n",
      "Epoch 87/100\n",
      "2/2 [==============================] - 0s 5ms/step - loss: 19.1086 - mse: 521.2535\n",
      "Epoch 88/100\n",
      "2/2 [==============================] - 0s 5ms/step - loss: 29.8228 - mse: 1287.1903\n",
      "Epoch 89/100\n",
      "2/2 [==============================] - 0s 6ms/step - loss: 10.1742 - mse: 124.1341\n",
      "Epoch 90/100\n",
      "2/2 [==============================] - 0s 4ms/step - loss: 21.5240 - mse: 663.8610\n",
      "Epoch 91/100\n",
      "2/2 [==============================] - 0s 5ms/step - loss: 10.5716 - mse: 161.7467\n",
      "Epoch 92/100\n",
      "2/2 [==============================] - 0s 5ms/step - loss: 18.3977 - mse: 464.1326\n",
      "Epoch 93/100\n",
      "2/2 [==============================] - 0s 5ms/step - loss: 7.4138 - mse: 81.9820\n",
      "Epoch 94/100\n",
      "2/2 [==============================] - 0s 7ms/step - loss: 17.7380 - mse: 445.7380\n",
      "Epoch 95/100\n"
     ]
    },
    {
     "name": "stdout",
     "output_type": "stream",
     "text": [
      "2/2 [==============================] - 0s 7ms/step - loss: 11.1144 - mse: 164.0821\n",
      "Epoch 96/100\n",
      "2/2 [==============================] - 0s 6ms/step - loss: 19.4346 - mse: 510.5843\n",
      "Epoch 97/100\n",
      "2/2 [==============================] - 0s 5ms/step - loss: 12.1593 - mse: 209.9755\n",
      "Epoch 98/100\n",
      "2/2 [==============================] - 0s 6ms/step - loss: 11.5653 - mse: 169.4051\n",
      "Epoch 99/100\n",
      "2/2 [==============================] - 0s 10ms/step - loss: 13.8827 - mse: 265.4630\n",
      "Epoch 100/100\n",
      "2/2 [==============================] - 0s 6ms/step - loss: 20.2277 - mse: 608.8218\n"
     ]
    },
    {
     "data": {
      "text/plain": [
       "<keras.callbacks.History at 0x2b224db20>"
      ]
     },
     "execution_count": 76,
     "metadata": {},
     "output_type": "execute_result"
    }
   ],
   "source": [
    "# Build model_2\n",
    "tf.random.set_seed(42)\n",
    "\n",
    "model_2 = tf.keras.Sequential([\n",
    "    tf.keras.layers.Dense(10),\n",
    "    tf.keras.layers.Dense(1)\n",
    "])\n",
    "\n",
    "model_2.compile(loss = tf.keras.losses.mae,\n",
    "             optimizer = tf.keras.optimizers.SGD(),\n",
    "             metrics = ['mse'])\n",
    "\n",
    "model_2.fit(tf.expand_dims(x_train, axis = -1), y_train, epochs = 100)"
   ]
  },
  {
   "cell_type": "code",
   "execution_count": 80,
   "id": "edbc3bd6",
   "metadata": {},
   "outputs": [
    {
     "name": "stdout",
     "output_type": "stream",
     "text": [
      "1/1 [==============================] - 0s 12ms/step\n"
     ]
    },
    {
     "data": {
      "image/png": "[encoded data removed]",
      "text/plain": [
       "<Figure size 720x504 with 1 Axes>"
      ]
     },
     "metadata": {
      "needs_background": "light"
     },
     "output_type": "display_data"
    }
   ],
   "source": [
    "# make and plot predictions for model_2\n",
    "y_pred_2 = model_2.predict(x_test)\n",
    "plot_predictions(predictions = y_pred_2)"
   ]
  },
  {
   "cell_type": "code",
   "execution_count": 96,
   "id": "95a1f3b2",
   "metadata": {},
   "outputs": [
    {
     "data": {
      "text/plain": [
       "(<tf.Tensor: shape=(), dtype=float32, numpy=3.196933>,\n",
       " <tf.Tensor: shape=(), dtype=float32, numpy=13.070086>)"
      ]
     },
     "execution_count": 96,
     "metadata": {},
     "output_type": "execute_result"
    }
   ],
   "source": [
    "# Calculate model_2 evaluation metrics\n",
    "mae_2 = mae(y_test, y_pred_2)\n",
    "mse_2 = mse(y_test, y_pred_2)\n",
    "mae_2, mse_2"
   ]
  },
  {
   "cell_type": "code",
   "execution_count": 104,
   "id": "c036cc08",
   "metadata": {
    "scrolled": true
   },
   "outputs": [
    {
     "name": "stdout",
     "output_type": "stream",
     "text": [
      "Epoch 1/500\n",
      "2/2 [==============================] - 0s 18ms/step - loss: 27.4058 - mse: 1084.1482\n",
      "Epoch 2/500\n",
      "2/2 [==============================] - 0s 7ms/step - loss: 24.6339 - mse: 777.9203\n",
      "Epoch 3/500\n",
      "2/2 [==============================] - 0s 8ms/step - loss: 29.8935 - mse: 1334.8956\n",
      "Epoch 4/500\n",
      "2/2 [==============================] - 0s 5ms/step - loss: 27.4055 - mse: 1106.8035\n",
      "Epoch 5/500\n",
      "2/2 [==============================] - 0s 6ms/step - loss: 14.9463 - mse: 281.1077\n",
      "Epoch 6/500\n",
      "2/2 [==============================] - 0s 5ms/step - loss: 11.8819 - mse: 168.6622\n",
      "Epoch 7/500\n",
      "2/2 [==============================] - 0s 6ms/step - loss: 11.1988 - mse: 151.3509\n",
      "Epoch 8/500\n",
      "2/2 [==============================] - 0s 7ms/step - loss: 11.0910 - mse: 160.3745\n",
      "Epoch 9/500\n",
      "2/2 [==============================] - 0s 7ms/step - loss: 40.4763 - mse: 2586.0088\n",
      "Epoch 10/500\n",
      "1/2 [==============>...............] - ETA: 0s - loss: 29.3236 - mse: 1200.5778"
     ]
    },
    {
     "name": "stderr",
     "output_type": "stream",
     "text": [
      "2022-08-16 18:43:18.373021: I tensorflow/core/grappler/optimizers/custom_graph_optimizer_registry.cc:113] Plugin optimizer for device_type GPU is enabled.\n"
     ]
    },
    {
     "name": "stdout",
     "output_type": "stream",
     "text": [
      "2/2 [==============================] - 0s 7ms/step - loss: 27.8687 - mse: 1094.4381\n",
      "Epoch 11/500\n",
      "2/2 [==============================] - 0s 7ms/step - loss: 10.2473 - mse: 147.9359\n",
      "Epoch 12/500\n",
      "2/2 [==============================] - 0s 8ms/step - loss: 25.2803 - mse: 890.3867\n",
      "Epoch 13/500\n",
      "2/2 [==============================] - 0s 7ms/step - loss: 16.9897 - mse: 399.9679\n",
      "Epoch 14/500\n",
      "2/2 [==============================] - 0s 6ms/step - loss: 25.9217 - mse: 1049.5520\n",
      "Epoch 15/500\n",
      "2/2 [==============================] - 0s 5ms/step - loss: 17.9948 - mse: 450.2582\n",
      "Epoch 16/500\n",
      "2/2 [==============================] - 0s 5ms/step - loss: 7.3510 - mse: 80.6206\n",
      "Epoch 17/500\n",
      "2/2 [==============================] - 0s 5ms/step - loss: 10.8636 - mse: 174.7868\n",
      "Epoch 18/500\n",
      "2/2 [==============================] - 0s 5ms/step - loss: 19.5304 - mse: 565.8051\n",
      "Epoch 19/500\n",
      "2/2 [==============================] - 0s 6ms/step - loss: 10.3469 - mse: 167.7749\n",
      "Epoch 20/500\n",
      "2/2 [==============================] - 0s 5ms/step - loss: 17.6985 - mse: 455.7095\n",
      "Epoch 21/500\n",
      "2/2 [==============================] - 0s 5ms/step - loss: 15.8984 - mse: 347.1928\n",
      "Epoch 22/500\n",
      "2/2 [==============================] - 0s 5ms/step - loss: 14.1991 - mse: 285.1766\n",
      "Epoch 23/500\n",
      "2/2 [==============================] - 0s 6ms/step - loss: 8.7720 - mse: 91.7852\n",
      "Epoch 24/500\n",
      "2/2 [==============================] - 0s 6ms/step - loss: 11.0570 - mse: 153.7430\n",
      "Epoch 25/500\n",
      "2/2 [==============================] - 0s 6ms/step - loss: 12.6838 - mse: 233.2950\n",
      "Epoch 26/500\n",
      "2/2 [==============================] - 0s 5ms/step - loss: 26.1877 - mse: 1024.6093\n",
      "Epoch 27/500\n",
      "2/2 [==============================] - 0s 5ms/step - loss: 11.7432 - mse: 194.8453\n",
      "Epoch 28/500\n",
      "2/2 [==============================] - 0s 6ms/step - loss: 22.8730 - mse: 835.6071\n",
      "Epoch 29/500\n",
      "2/2 [==============================] - 0s 5ms/step - loss: 9.2459 - mse: 96.7787\n",
      "Epoch 30/500\n",
      "2/2 [==============================] - 0s 7ms/step - loss: 29.2641 - mse: 1535.1339\n",
      "Epoch 31/500\n",
      "2/2 [==============================] - 0s 5ms/step - loss: 53.0224 - mse: 5030.2949\n",
      "Epoch 32/500\n",
      "2/2 [==============================] - 0s 5ms/step - loss: 11.9951 - mse: 211.7023\n",
      "Epoch 33/500\n",
      "2/2 [==============================] - 0s 6ms/step - loss: 15.6357 - mse: 337.3665\n",
      "Epoch 34/500\n",
      "2/2 [==============================] - 0s 6ms/step - loss: 12.6925 - mse: 214.4822\n",
      "Epoch 35/500\n",
      "2/2 [==============================] - 0s 5ms/step - loss: 9.2398 - mse: 92.9126\n",
      "Epoch 36/500\n",
      "2/2 [==============================] - 0s 5ms/step - loss: 16.6497 - mse: 403.6570\n",
      "Epoch 37/500\n",
      "2/2 [==============================] - 0s 5ms/step - loss: 11.0382 - mse: 192.3919\n",
      "Epoch 38/500\n",
      "2/2 [==============================] - 0s 11ms/step - loss: 18.1634 - mse: 433.6718\n",
      "Epoch 39/500\n",
      "2/2 [==============================] - 0s 5ms/step - loss: 19.1013 - mse: 529.6442\n",
      "Epoch 40/500\n",
      "2/2 [==============================] - 0s 5ms/step - loss: 20.4324 - mse: 610.1326\n",
      "Epoch 41/500\n",
      "2/2 [==============================] - 0s 6ms/step - loss: 14.9102 - mse: 279.6182\n",
      "Epoch 42/500\n",
      "2/2 [==============================] - 0s 8ms/step - loss: 12.2809 - mse: 186.6179\n",
      "Epoch 43/500\n",
      "2/2 [==============================] - 0s 5ms/step - loss: 10.7333 - mse: 167.0951\n",
      "Epoch 44/500\n",
      "2/2 [==============================] - 0s 5ms/step - loss: 23.0260 - mse: 830.4240\n",
      "Epoch 45/500\n",
      "2/2 [==============================] - 0s 4ms/step - loss: 10.3897 - mse: 128.9549\n",
      "Epoch 46/500\n",
      "2/2 [==============================] - 0s 5ms/step - loss: 11.7904 - mse: 181.9211\n",
      "Epoch 47/500\n",
      "2/2 [==============================] - 0s 5ms/step - loss: 9.6438 - mse: 153.8708\n",
      "Epoch 48/500\n",
      "2/2 [==============================] - 0s 4ms/step - loss: 17.2335 - mse: 402.8496\n",
      "Epoch 49/500\n",
      "2/2 [==============================] - 0s 5ms/step - loss: 9.5729 - mse: 99.8336\n",
      "Epoch 50/500\n",
      "2/2 [==============================] - 0s 4ms/step - loss: 13.8185 - mse: 260.3669\n",
      "Epoch 51/500\n",
      "2/2 [==============================] - 0s 4ms/step - loss: 11.5958 - mse: 154.7955\n",
      "Epoch 52/500\n",
      "2/2 [==============================] - 0s 5ms/step - loss: 30.5538 - mse: 1613.0881\n",
      "Epoch 53/500\n",
      "2/2 [==============================] - 0s 4ms/step - loss: 14.3541 - mse: 302.5291\n",
      "Epoch 54/500\n",
      "2/2 [==============================] - 0s 5ms/step - loss: 23.9713 - mse: 859.3983\n",
      "Epoch 55/500\n",
      "2/2 [==============================] - 0s 4ms/step - loss: 23.1938 - mse: 805.5446\n",
      "Epoch 56/500\n",
      "2/2 [==============================] - 0s 5ms/step - loss: 10.8837 - mse: 170.9834\n",
      "Epoch 57/500\n",
      "2/2 [==============================] - 0s 7ms/step - loss: 12.7445 - mse: 198.7014\n",
      "Epoch 58/500\n",
      "2/2 [==============================] - 0s 4ms/step - loss: 9.5995 - mse: 102.5890\n",
      "Epoch 59/500\n",
      "2/2 [==============================] - 0s 5ms/step - loss: 12.5172 - mse: 216.3366\n",
      "Epoch 60/500\n",
      "2/2 [==============================] - 0s 5ms/step - loss: 12.3200 - mse: 208.6370\n",
      "Epoch 61/500\n",
      "2/2 [==============================] - 0s 5ms/step - loss: 17.4604 - mse: 428.6392\n",
      "Epoch 62/500\n",
      "2/2 [==============================] - 0s 4ms/step - loss: 10.6052 - mse: 136.9776\n",
      "Epoch 63/500\n",
      "2/2 [==============================] - 0s 4ms/step - loss: 10.4893 - mse: 152.4554\n",
      "Epoch 64/500\n",
      "2/2 [==============================] - 0s 4ms/step - loss: 24.8450 - mse: 911.7508\n",
      "Epoch 65/500\n",
      "2/2 [==============================] - 0s 4ms/step - loss: 10.6761 - mse: 142.7374\n",
      "Epoch 66/500\n",
      "2/2 [==============================] - 0s 4ms/step - loss: 21.7809 - mse: 704.4488\n",
      "Epoch 67/500\n",
      "2/2 [==============================] - 0s 4ms/step - loss: 10.7136 - mse: 136.0194\n",
      "Epoch 68/500\n",
      "2/2 [==============================] - 0s 5ms/step - loss: 10.6397 - mse: 149.2299\n",
      "Epoch 69/500\n",
      "2/2 [==============================] - 0s 5ms/step - loss: 22.6914 - mse: 742.1760\n",
      "Epoch 70/500\n",
      "2/2 [==============================] - 0s 5ms/step - loss: 9.3316 - mse: 166.1628\n",
      "Epoch 71/500\n",
      "2/2 [==============================] - 0s 5ms/step - loss: 15.4355 - mse: 323.0843\n",
      "Epoch 72/500\n",
      "2/2 [==============================] - 0s 4ms/step - loss: 6.7437 - mse: 67.0210\n",
      "Epoch 73/500\n",
      "2/2 [==============================] - 0s 4ms/step - loss: 11.6891 - mse: 183.7296\n",
      "Epoch 74/500\n",
      "2/2 [==============================] - 0s 4ms/step - loss: 24.0400 - mse: 908.8994\n",
      "Epoch 75/500\n",
      "2/2 [==============================] - 0s 4ms/step - loss: 9.5896 - mse: 149.3948\n",
      "Epoch 76/500\n",
      "2/2 [==============================] - 0s 4ms/step - loss: 12.4371 - mse: 188.3310\n",
      "Epoch 77/500\n",
      "2/2 [==============================] - 0s 6ms/step - loss: 16.6489 - mse: 429.2708\n",
      "Epoch 78/500\n",
      "2/2 [==============================] - 0s 4ms/step - loss: 9.0615 - mse: 95.4870\n",
      "Epoch 79/500\n",
      "2/2 [==============================] - 0s 4ms/step - loss: 23.9675 - mse: 864.0864\n",
      "Epoch 80/500\n",
      "2/2 [==============================] - 0s 5ms/step - loss: 26.7462 - mse: 1104.4027\n",
      "Epoch 81/500\n",
      "2/2 [==============================] - 0s 4ms/step - loss: 11.6714 - mse: 170.7055\n",
      "Epoch 82/500\n",
      "2/2 [==============================] - 0s 4ms/step - loss: 12.0228 - mse: 211.9191\n",
      "Epoch 83/500\n",
      "2/2 [==============================] - 0s 4ms/step - loss: 17.4218 - mse: 395.5589\n",
      "Epoch 84/500\n",
      "2/2 [==============================] - 0s 5ms/step - loss: 7.2629 - mse: 73.0935\n",
      "Epoch 85/500\n",
      "2/2 [==============================] - 0s 5ms/step - loss: 14.9650 - mse: 312.8362\n",
      "Epoch 86/500\n",
      "2/2 [==============================] - 0s 4ms/step - loss: 15.2862 - mse: 315.3606\n",
      "Epoch 87/500\n",
      "2/2 [==============================] - 0s 5ms/step - loss: 19.1086 - mse: 521.2535\n",
      "Epoch 88/500\n",
      "2/2 [==============================] - 0s 7ms/step - loss: 29.8228 - mse: 1287.1903\n",
      "Epoch 89/500\n",
      "2/2 [==============================] - 0s 4ms/step - loss: 10.1742 - mse: 124.1341\n",
      "Epoch 90/500\n",
      "2/2 [==============================] - 0s 5ms/step - loss: 21.5240 - mse: 663.8610\n",
      "Epoch 91/500\n",
      "2/2 [==============================] - 0s 7ms/step - loss: 10.5716 - mse: 161.7467\n",
      "Epoch 92/500\n",
      "2/2 [==============================] - 0s 4ms/step - loss: 18.3977 - mse: 464.1326\n",
      "Epoch 93/500\n",
      "2/2 [==============================] - 0s 6ms/step - loss: 7.4138 - mse: 81.9820\n",
      "Epoch 94/500\n",
      "2/2 [==============================] - 0s 5ms/step - loss: 17.7380 - mse: 445.7380\n",
      "Epoch 95/500\n"
     ]
    },
    {
     "name": "stdout",
     "output_type": "stream",
     "text": [
      "2/2 [==============================] - 0s 4ms/step - loss: 11.1144 - mse: 164.0821\n",
      "Epoch 96/500\n",
      "2/2 [==============================] - 0s 6ms/step - loss: 19.4346 - mse: 510.5843\n",
      "Epoch 97/500\n",
      "2/2 [==============================] - 0s 5ms/step - loss: 12.1593 - mse: 209.9755\n",
      "Epoch 98/500\n",
      "2/2 [==============================] - 0s 5ms/step - loss: 11.5653 - mse: 169.4051\n",
      "Epoch 99/500\n",
      "2/2 [==============================] - 0s 5ms/step - loss: 13.8827 - mse: 265.4630\n",
      "Epoch 100/500\n",
      "2/2 [==============================] - 0s 6ms/step - loss: 20.2277 - mse: 608.8218\n",
      "Epoch 101/500\n",
      "2/2 [==============================] - 0s 5ms/step - loss: 11.4479 - mse: 177.1445\n",
      "Epoch 102/500\n",
      "2/2 [==============================] - 0s 5ms/step - loss: 17.4842 - mse: 426.5328\n",
      "Epoch 103/500\n",
      "2/2 [==============================] - 0s 5ms/step - loss: 7.0217 - mse: 65.2649\n",
      "Epoch 104/500\n",
      "2/2 [==============================] - 0s 7ms/step - loss: 23.5789 - mse: 757.4911\n",
      "Epoch 105/500\n",
      "2/2 [==============================] - 0s 5ms/step - loss: 16.8932 - mse: 443.0951\n",
      "Epoch 106/500\n",
      "2/2 [==============================] - 0s 5ms/step - loss: 9.2954 - mse: 144.6570\n",
      "Epoch 107/500\n",
      "2/2 [==============================] - 0s 5ms/step - loss: 25.3749 - mse: 934.2098\n",
      "Epoch 108/500\n",
      "2/2 [==============================] - 0s 5ms/step - loss: 13.4621 - mse: 269.8597\n",
      "Epoch 109/500\n",
      "2/2 [==============================] - 0s 5ms/step - loss: 9.5238 - mse: 108.7908\n",
      "Epoch 110/500\n",
      "2/2 [==============================] - 0s 6ms/step - loss: 9.6722 - mse: 128.8768\n",
      "Epoch 111/500\n",
      "2/2 [==============================] - 0s 5ms/step - loss: 14.5987 - mse: 295.9862\n",
      "Epoch 112/500\n",
      "2/2 [==============================] - 0s 5ms/step - loss: 9.5670 - mse: 123.4113\n",
      "Epoch 113/500\n",
      "2/2 [==============================] - 0s 6ms/step - loss: 17.8092 - mse: 460.3869\n",
      "Epoch 114/500\n",
      "2/2 [==============================] - 0s 4ms/step - loss: 17.1782 - mse: 441.2208\n",
      "Epoch 115/500\n",
      "2/2 [==============================] - 0s 5ms/step - loss: 11.1182 - mse: 155.0962\n",
      "Epoch 116/500\n",
      "2/2 [==============================] - 0s 5ms/step - loss: 23.3071 - mse: 791.7660\n",
      "Epoch 117/500\n",
      "2/2 [==============================] - 0s 5ms/step - loss: 9.6144 - mse: 126.1895\n",
      "Epoch 118/500\n",
      "2/2 [==============================] - 0s 5ms/step - loss: 10.6899 - mse: 140.2946\n",
      "Epoch 119/500\n",
      "2/2 [==============================] - 0s 4ms/step - loss: 8.0355 - mse: 78.3508\n",
      "Epoch 120/500\n",
      "2/2 [==============================] - 0s 5ms/step - loss: 29.6859 - mse: 1315.8647\n",
      "Epoch 121/500\n",
      "2/2 [==============================] - 0s 5ms/step - loss: 8.0714 - mse: 70.6648\n",
      "Epoch 122/500\n",
      "2/2 [==============================] - 0s 5ms/step - loss: 28.3086 - mse: 1233.3846\n",
      "Epoch 123/500\n",
      "2/2 [==============================] - 0s 5ms/step - loss: 32.9014 - mse: 1591.9503\n",
      "Epoch 124/500\n",
      "2/2 [==============================] - 0s 5ms/step - loss: 19.6291 - mse: 571.6959\n",
      "Epoch 125/500\n",
      "2/2 [==============================] - 0s 5ms/step - loss: 7.0095 - mse: 72.1091\n",
      "Epoch 126/500\n",
      "2/2 [==============================] - 0s 4ms/step - loss: 21.8056 - mse: 666.4340\n",
      "Epoch 127/500\n",
      "2/2 [==============================] - 0s 5ms/step - loss: 7.9812 - mse: 69.5627\n",
      "Epoch 128/500\n",
      "2/2 [==============================] - 0s 5ms/step - loss: 21.0585 - mse: 653.6485\n",
      "Epoch 129/500\n",
      "2/2 [==============================] - 0s 5ms/step - loss: 9.0107 - mse: 120.8762\n",
      "Epoch 130/500\n",
      "2/2 [==============================] - 0s 5ms/step - loss: 24.0502 - mse: 815.7739\n",
      "Epoch 131/500\n",
      "2/2 [==============================] - 0s 4ms/step - loss: 9.7537 - mse: 133.0193\n",
      "Epoch 132/500\n",
      "2/2 [==============================] - 0s 4ms/step - loss: 18.3052 - mse: 500.9211\n",
      "Epoch 133/500\n",
      "2/2 [==============================] - 0s 5ms/step - loss: 7.5833 - mse: 80.1913\n",
      "Epoch 134/500\n",
      "2/2 [==============================] - 0s 4ms/step - loss: 18.5755 - mse: 506.3338\n",
      "Epoch 135/500\n",
      "2/2 [==============================] - 0s 5ms/step - loss: 10.5360 - mse: 148.5977\n",
      "Epoch 136/500\n",
      "2/2 [==============================] - 0s 5ms/step - loss: 18.2694 - mse: 472.4458\n",
      "Epoch 137/500\n",
      "2/2 [==============================] - 0s 5ms/step - loss: 23.1658 - mse: 724.0375\n",
      "Epoch 138/500\n",
      "2/2 [==============================] - 0s 6ms/step - loss: 9.1362 - mse: 139.5300\n",
      "Epoch 139/500\n",
      "2/2 [==============================] - 0s 6ms/step - loss: 8.9181 - mse: 144.6080\n",
      "Epoch 140/500\n",
      "2/2 [==============================] - 0s 5ms/step - loss: 16.4732 - mse: 389.2467\n",
      "Epoch 141/500\n",
      "2/2 [==============================] - 0s 5ms/step - loss: 8.4208 - mse: 91.7412\n",
      "Epoch 142/500\n",
      "2/2 [==============================] - 0s 5ms/step - loss: 36.9540 - mse: 2404.8630\n",
      "Epoch 143/500\n",
      "2/2 [==============================] - 0s 5ms/step - loss: 25.5820 - mse: 927.2334\n",
      "Epoch 144/500\n",
      "2/2 [==============================] - 0s 8ms/step - loss: 9.5392 - mse: 144.3265\n",
      "Epoch 145/500\n",
      "2/2 [==============================] - 0s 5ms/step - loss: 26.6058 - mse: 957.1340\n",
      "Epoch 146/500\n",
      "2/2 [==============================] - 0s 5ms/step - loss: 8.7248 - mse: 109.2954\n",
      "Epoch 147/500\n",
      "2/2 [==============================] - 0s 4ms/step - loss: 15.6172 - mse: 311.2310\n",
      "Epoch 148/500\n",
      "2/2 [==============================] - 0s 5ms/step - loss: 18.3065 - mse: 464.7857\n",
      "Epoch 149/500\n",
      "2/2 [==============================] - 0s 5ms/step - loss: 8.1994 - mse: 106.4584\n",
      "Epoch 150/500\n",
      "2/2 [==============================] - 0s 4ms/step - loss: 7.4964 - mse: 66.4456\n",
      "Epoch 151/500\n",
      "2/2 [==============================] - 0s 4ms/step - loss: 18.3374 - mse: 485.9976\n",
      "Epoch 152/500\n",
      "2/2 [==============================] - 0s 6ms/step - loss: 10.2895 - mse: 130.5615\n",
      "Epoch 153/500\n",
      "2/2 [==============================] - 0s 5ms/step - loss: 29.6425 - mse: 1268.4624\n",
      "Epoch 154/500\n",
      "2/2 [==============================] - 0s 4ms/step - loss: 10.5556 - mse: 201.2334\n",
      "Epoch 155/500\n",
      "2/2 [==============================] - 0s 5ms/step - loss: 15.4537 - mse: 347.2171\n",
      "Epoch 156/500\n",
      "2/2 [==============================] - 0s 5ms/step - loss: 17.0174 - mse: 438.8496\n",
      "Epoch 157/500\n",
      "2/2 [==============================] - 0s 5ms/step - loss: 32.8217 - mse: 1744.8129\n",
      "Epoch 158/500\n",
      "2/2 [==============================] - 0s 5ms/step - loss: 10.7038 - mse: 151.0812\n",
      "Epoch 159/500\n",
      "2/2 [==============================] - 0s 6ms/step - loss: 8.9054 - mse: 97.7704\n",
      "Epoch 160/500\n",
      "2/2 [==============================] - 0s 5ms/step - loss: 22.1321 - mse: 709.4387\n",
      "Epoch 161/500\n",
      "2/2 [==============================] - 0s 5ms/step - loss: 11.7113 - mse: 202.9610\n",
      "Epoch 162/500\n",
      "2/2 [==============================] - 0s 5ms/step - loss: 21.5734 - mse: 670.2853\n",
      "Epoch 163/500\n",
      "2/2 [==============================] - 0s 4ms/step - loss: 19.2484 - mse: 533.4072\n",
      "Epoch 164/500\n",
      "2/2 [==============================] - 0s 5ms/step - loss: 11.0156 - mse: 177.6824\n",
      "Epoch 165/500\n",
      "2/2 [==============================] - 0s 9ms/step - loss: 9.6187 - mse: 179.8633\n",
      "Epoch 166/500\n",
      "2/2 [==============================] - 0s 4ms/step - loss: 21.5908 - mse: 681.9668\n",
      "Epoch 167/500\n",
      "2/2 [==============================] - 0s 6ms/step - loss: 26.2850 - mse: 1048.8441\n",
      "Epoch 168/500\n",
      "2/2 [==============================] - 0s 4ms/step - loss: 9.8525 - mse: 118.2891\n",
      "Epoch 169/500\n",
      "2/2 [==============================] - 0s 4ms/step - loss: 22.5630 - mse: 787.0584\n",
      "Epoch 170/500\n",
      "2/2 [==============================] - 0s 7ms/step - loss: 10.1499 - mse: 195.9050\n",
      "Epoch 171/500\n",
      "2/2 [==============================] - 0s 5ms/step - loss: 18.0464 - mse: 503.4534\n",
      "Epoch 172/500\n",
      "2/2 [==============================] - 0s 4ms/step - loss: 28.8377 - mse: 1305.7981\n",
      "Epoch 173/500\n",
      "2/2 [==============================] - 0s 5ms/step - loss: 16.5279 - mse: 432.1440\n",
      "Epoch 174/500\n",
      "2/2 [==============================] - 0s 5ms/step - loss: 11.2115 - mse: 199.9691\n",
      "Epoch 175/500\n",
      "2/2 [==============================] - 0s 4ms/step - loss: 27.5839 - mse: 1097.8190\n",
      "Epoch 176/500\n",
      "2/2 [==============================] - 0s 5ms/step - loss: 8.2680 - mse: 77.5371\n",
      "Epoch 177/500\n",
      "2/2 [==============================] - 0s 5ms/step - loss: 9.2580 - mse: 108.9074\n",
      "Epoch 178/500\n",
      "2/2 [==============================] - 0s 10ms/step - loss: 18.1440 - mse: 466.0505\n",
      "Epoch 179/500\n"
     ]
    },
    {
     "name": "stdout",
     "output_type": "stream",
     "text": [
      "2/2 [==============================] - 0s 4ms/step - loss: 10.5995 - mse: 147.8544\n",
      "Epoch 180/500\n",
      "2/2 [==============================] - 0s 6ms/step - loss: 7.8992 - mse: 100.6933\n",
      "Epoch 181/500\n",
      "2/2 [==============================] - 0s 5ms/step - loss: 17.4015 - mse: 438.6028\n",
      "Epoch 182/500\n",
      "2/2 [==============================] - 0s 5ms/step - loss: 11.0088 - mse: 157.1594\n",
      "Epoch 183/500\n",
      "2/2 [==============================] - 0s 5ms/step - loss: 11.7027 - mse: 203.9954\n",
      "Epoch 184/500\n",
      "2/2 [==============================] - 0s 6ms/step - loss: 30.4061 - mse: 1387.3828\n",
      "Epoch 185/500\n",
      "2/2 [==============================] - 0s 6ms/step - loss: 7.5557 - mse: 98.6847\n",
      "Epoch 186/500\n",
      "2/2 [==============================] - 0s 5ms/step - loss: 15.9905 - mse: 369.3703\n",
      "Epoch 187/500\n",
      "2/2 [==============================] - 0s 6ms/step - loss: 8.5579 - mse: 85.4846\n",
      "Epoch 188/500\n",
      "2/2 [==============================] - 0s 5ms/step - loss: 28.7339 - mse: 1175.7046\n",
      "Epoch 189/500\n",
      "2/2 [==============================] - 0s 5ms/step - loss: 13.1689 - mse: 271.3447\n",
      "Epoch 190/500\n",
      "2/2 [==============================] - 0s 5ms/step - loss: 18.3101 - mse: 512.5549\n",
      "Epoch 191/500\n",
      "2/2 [==============================] - 0s 6ms/step - loss: 13.7376 - mse: 264.9677\n",
      "Epoch 192/500\n",
      "2/2 [==============================] - 0s 5ms/step - loss: 13.7104 - mse: 261.0630\n",
      "Epoch 193/500\n",
      "2/2 [==============================] - 0s 5ms/step - loss: 28.5842 - mse: 1135.1307\n",
      "Epoch 194/500\n",
      "2/2 [==============================] - 0s 5ms/step - loss: 7.0706 - mse: 78.6825\n",
      "Epoch 195/500\n",
      "2/2 [==============================] - 0s 6ms/step - loss: 7.0550 - mse: 74.9454\n",
      "Epoch 196/500\n",
      "2/2 [==============================] - 0s 5ms/step - loss: 22.0067 - mse: 709.4542\n",
      "Epoch 197/500\n",
      "2/2 [==============================] - 0s 5ms/step - loss: 20.8443 - mse: 643.6116\n",
      "Epoch 198/500\n",
      "2/2 [==============================] - 0s 5ms/step - loss: 12.4713 - mse: 236.5508\n",
      "Epoch 199/500\n",
      "2/2 [==============================] - 0s 6ms/step - loss: 17.9098 - mse: 460.3526\n",
      "Epoch 200/500\n",
      "2/2 [==============================] - 0s 5ms/step - loss: 13.7493 - mse: 282.2664\n",
      "Epoch 201/500\n",
      "2/2 [==============================] - 0s 5ms/step - loss: 5.4687 - mse: 41.0883\n",
      "Epoch 202/500\n",
      "2/2 [==============================] - 0s 5ms/step - loss: 13.7005 - mse: 293.8444\n",
      "Epoch 203/500\n",
      "2/2 [==============================] - 0s 5ms/step - loss: 9.4142 - mse: 139.9066\n",
      "Epoch 204/500\n",
      "2/2 [==============================] - 0s 5ms/step - loss: 20.9796 - mse: 656.2621\n",
      "Epoch 205/500\n",
      "2/2 [==============================] - 0s 5ms/step - loss: 9.5470 - mse: 127.9145\n",
      "Epoch 206/500\n",
      "2/2 [==============================] - 0s 4ms/step - loss: 11.7256 - mse: 195.6240\n",
      "Epoch 207/500\n",
      "2/2 [==============================] - 0s 5ms/step - loss: 14.3772 - mse: 317.1677\n",
      "Epoch 208/500\n",
      "2/2 [==============================] - 0s 6ms/step - loss: 14.8579 - mse: 323.1452\n",
      "Epoch 209/500\n",
      "2/2 [==============================] - 0s 5ms/step - loss: 14.9706 - mse: 345.7377\n",
      "Epoch 210/500\n",
      "2/2 [==============================] - 0s 5ms/step - loss: 17.8998 - mse: 467.4644\n",
      "Epoch 211/500\n",
      "2/2 [==============================] - 0s 5ms/step - loss: 9.8327 - mse: 145.8636\n",
      "Epoch 212/500\n",
      "2/2 [==============================] - 0s 4ms/step - loss: 18.3352 - mse: 507.7765\n",
      "Epoch 213/500\n",
      "2/2 [==============================] - 0s 5ms/step - loss: 15.0383 - mse: 307.6407\n",
      "Epoch 214/500\n",
      "2/2 [==============================] - 0s 5ms/step - loss: 14.5874 - mse: 293.5643\n",
      "Epoch 215/500\n",
      "2/2 [==============================] - 0s 5ms/step - loss: 23.3015 - mse: 799.4150\n",
      "Epoch 216/500\n",
      "2/2 [==============================] - 0s 4ms/step - loss: 13.3613 - mse: 278.0947\n",
      "Epoch 217/500\n",
      "2/2 [==============================] - 0s 5ms/step - loss: 9.8517 - mse: 136.3092\n",
      "Epoch 218/500\n",
      "2/2 [==============================] - 0s 5ms/step - loss: 12.5451 - mse: 206.5810\n",
      "Epoch 219/500\n",
      "2/2 [==============================] - 0s 6ms/step - loss: 4.9472 - mse: 37.4063\n",
      "Epoch 220/500\n",
      "2/2 [==============================] - 0s 5ms/step - loss: 7.1130 - mse: 57.5579\n",
      "Epoch 221/500\n",
      "2/2 [==============================] - 0s 5ms/step - loss: 35.4567 - mse: 2108.1008\n",
      "Epoch 222/500\n",
      "2/2 [==============================] - 0s 5ms/step - loss: 34.8634 - mse: 1966.9606\n",
      "Epoch 223/500\n",
      "2/2 [==============================] - 0s 5ms/step - loss: 7.9846 - mse: 119.7548\n",
      "Epoch 224/500\n",
      "2/2 [==============================] - 0s 5ms/step - loss: 14.7004 - mse: 318.5027\n",
      "Epoch 225/500\n",
      "2/2 [==============================] - 0s 4ms/step - loss: 16.7196 - mse: 360.6417\n",
      "Epoch 226/500\n",
      "2/2 [==============================] - 0s 5ms/step - loss: 15.9329 - mse: 369.8892\n",
      "Epoch 227/500\n",
      "2/2 [==============================] - 0s 5ms/step - loss: 16.1644 - mse: 369.5818\n",
      "Epoch 228/500\n",
      "2/2 [==============================] - 0s 4ms/step - loss: 13.9324 - mse: 282.1422\n",
      "Epoch 229/500\n",
      "2/2 [==============================] - 0s 4ms/step - loss: 18.0504 - mse: 457.4229\n",
      "Epoch 230/500\n",
      "2/2 [==============================] - 0s 5ms/step - loss: 15.6120 - mse: 314.6218\n",
      "Epoch 231/500\n",
      "2/2 [==============================] - 0s 4ms/step - loss: 21.2041 - mse: 670.7590\n",
      "Epoch 232/500\n",
      "2/2 [==============================] - 0s 5ms/step - loss: 25.2732 - mse: 913.5803\n",
      "Epoch 233/500\n",
      "2/2 [==============================] - 0s 5ms/step - loss: 16.3176 - mse: 387.7157\n",
      "Epoch 234/500\n",
      "2/2 [==============================] - 0s 5ms/step - loss: 7.2729 - mse: 66.5098\n",
      "Epoch 235/500\n",
      "2/2 [==============================] - 0s 5ms/step - loss: 16.9688 - mse: 403.1295\n",
      "Epoch 236/500\n",
      "2/2 [==============================] - 0s 5ms/step - loss: 7.1225 - mse: 69.7516\n",
      "Epoch 237/500\n",
      "2/2 [==============================] - 0s 4ms/step - loss: 9.2058 - mse: 118.9100\n",
      "Epoch 238/500\n",
      "2/2 [==============================] - 0s 5ms/step - loss: 8.0961 - mse: 86.7114\n",
      "Epoch 239/500\n",
      "2/2 [==============================] - 0s 6ms/step - loss: 17.0538 - mse: 438.0266\n",
      "Epoch 240/500\n",
      "2/2 [==============================] - 0s 4ms/step - loss: 8.8627 - mse: 107.8192\n",
      "Epoch 241/500\n",
      "2/2 [==============================] - 0s 4ms/step - loss: 13.1711 - mse: 273.2420\n",
      "Epoch 242/500\n",
      "2/2 [==============================] - 0s 6ms/step - loss: 8.7886 - mse: 104.8366\n",
      "Epoch 243/500\n",
      "2/2 [==============================] - 0s 4ms/step - loss: 18.8161 - mse: 541.4709\n",
      "Epoch 244/500\n",
      "2/2 [==============================] - 0s 4ms/step - loss: 14.0531 - mse: 275.3818\n",
      "Epoch 245/500\n",
      "2/2 [==============================] - 0s 6ms/step - loss: 14.6831 - mse: 290.1829\n",
      "Epoch 246/500\n",
      "2/2 [==============================] - 0s 6ms/step - loss: 15.8045 - mse: 370.7156\n",
      "Epoch 247/500\n",
      "2/2 [==============================] - 0s 5ms/step - loss: 17.6810 - mse: 421.4947\n",
      "Epoch 248/500\n",
      "2/2 [==============================] - 0s 4ms/step - loss: 13.2367 - mse: 251.7198\n",
      "Epoch 249/500\n",
      "2/2 [==============================] - 0s 6ms/step - loss: 14.5070 - mse: 288.7693\n",
      "Epoch 250/500\n",
      "2/2 [==============================] - 0s 5ms/step - loss: 23.2322 - mse: 793.2504\n",
      "Epoch 251/500\n",
      "2/2 [==============================] - 0s 4ms/step - loss: 9.3009 - mse: 119.0356\n",
      "Epoch 252/500\n",
      "2/2 [==============================] - 0s 5ms/step - loss: 36.6568 - mse: 2195.6172\n",
      "Epoch 253/500\n",
      "2/2 [==============================] - 0s 6ms/step - loss: 21.8205 - mse: 667.9626\n",
      "Epoch 254/500\n",
      "2/2 [==============================] - 0s 4ms/step - loss: 7.2792 - mse: 77.8093\n",
      "Epoch 255/500\n",
      "2/2 [==============================] - 0s 5ms/step - loss: 24.7126 - mse: 882.9658\n",
      "Epoch 256/500\n",
      "2/2 [==============================] - 0s 5ms/step - loss: 12.4220 - mse: 220.3514\n",
      "Epoch 257/500\n",
      "2/2 [==============================] - 0s 4ms/step - loss: 10.5823 - mse: 164.0439\n",
      "Epoch 258/500\n",
      "2/2 [==============================] - 0s 6ms/step - loss: 14.4883 - mse: 322.3509\n",
      "Epoch 259/500\n",
      "2/2 [==============================] - 0s 4ms/step - loss: 8.6132 - mse: 98.6932\n",
      "Epoch 260/500\n",
      "2/2 [==============================] - 0s 5ms/step - loss: 43.0580 - mse: 2975.2305\n",
      "Epoch 261/500\n",
      "2/2 [==============================] - 0s 5ms/step - loss: 18.4611 - mse: 493.6658\n",
      "Epoch 262/500\n",
      "2/2 [==============================] - 0s 6ms/step - loss: 6.8820 - mse: 94.3407\n",
      "Epoch 263/500\n"
     ]
    },
    {
     "name": "stdout",
     "output_type": "stream",
     "text": [
      "2/2 [==============================] - 0s 4ms/step - loss: 13.7211 - mse: 268.5680\n",
      "Epoch 264/500\n",
      "2/2 [==============================] - 0s 9ms/step - loss: 21.0154 - mse: 653.9620\n",
      "Epoch 265/500\n",
      "2/2 [==============================] - 0s 4ms/step - loss: 19.3730 - mse: 545.6241\n",
      "Epoch 266/500\n",
      "2/2 [==============================] - 0s 5ms/step - loss: 11.4735 - mse: 234.7203\n",
      "Epoch 267/500\n",
      "2/2 [==============================] - 0s 5ms/step - loss: 7.5302 - mse: 112.0906\n",
      "Epoch 268/500\n",
      "2/2 [==============================] - 0s 6ms/step - loss: 21.6453 - mse: 670.2258\n",
      "Epoch 269/500\n",
      "2/2 [==============================] - 0s 5ms/step - loss: 33.1785 - mse: 1653.7344\n",
      "Epoch 270/500\n",
      "2/2 [==============================] - 0s 5ms/step - loss: 10.0833 - mse: 148.7349\n",
      "Epoch 271/500\n",
      "2/2 [==============================] - 0s 5ms/step - loss: 12.1012 - mse: 303.1720\n",
      "Epoch 272/500\n",
      "2/2 [==============================] - 0s 5ms/step - loss: 26.1373 - mse: 944.6783\n",
      "Epoch 273/500\n",
      "2/2 [==============================] - 0s 5ms/step - loss: 12.1751 - mse: 228.8028\n",
      "Epoch 274/500\n",
      "2/2 [==============================] - 0s 4ms/step - loss: 13.3272 - mse: 282.3031\n",
      "Epoch 275/500\n",
      "2/2 [==============================] - 0s 5ms/step - loss: 29.3775 - mse: 1229.1168\n",
      "Epoch 276/500\n",
      "2/2 [==============================] - 0s 6ms/step - loss: 7.3329 - mse: 104.3415\n",
      "Epoch 277/500\n",
      "2/2 [==============================] - 0s 6ms/step - loss: 31.1362 - mse: 1360.7684\n",
      "Epoch 278/500\n",
      "2/2 [==============================] - 0s 5ms/step - loss: 12.3016 - mse: 234.6619\n",
      "Epoch 279/500\n",
      "2/2 [==============================] - 0s 5ms/step - loss: 16.4103 - mse: 416.9117\n",
      "Epoch 280/500\n",
      "2/2 [==============================] - 0s 5ms/step - loss: 21.9118 - mse: 716.7848\n",
      "Epoch 281/500\n",
      "2/2 [==============================] - 0s 5ms/step - loss: 22.1500 - mse: 745.2050\n",
      "Epoch 282/500\n",
      "2/2 [==============================] - 0s 7ms/step - loss: 7.7429 - mse: 90.5224\n",
      "Epoch 283/500\n",
      "2/2 [==============================] - 0s 5ms/step - loss: 8.1429 - mse: 87.9049\n",
      "Epoch 284/500\n",
      "2/2 [==============================] - 0s 5ms/step - loss: 24.9434 - mse: 936.1591\n",
      "Epoch 285/500\n",
      "2/2 [==============================] - 0s 5ms/step - loss: 13.6958 - mse: 299.3608\n",
      "Epoch 286/500\n",
      "2/2 [==============================] - 0s 6ms/step - loss: 6.8926 - mse: 81.2998\n",
      "Epoch 287/500\n",
      "2/2 [==============================] - 0s 6ms/step - loss: 24.5352 - mse: 862.2883\n",
      "Epoch 288/500\n",
      "2/2 [==============================] - 0s 5ms/step - loss: 20.1721 - mse: 605.2866\n",
      "Epoch 289/500\n",
      "2/2 [==============================] - 0s 5ms/step - loss: 11.9658 - mse: 244.8305\n",
      "Epoch 290/500\n",
      "2/2 [==============================] - 0s 6ms/step - loss: 16.5391 - mse: 366.5721\n",
      "Epoch 291/500\n",
      "2/2 [==============================] - 0s 5ms/step - loss: 16.8017 - mse: 414.8179\n",
      "Epoch 292/500\n",
      "2/2 [==============================] - 0s 5ms/step - loss: 9.4642 - mse: 213.4543\n",
      "Epoch 293/500\n",
      "2/2 [==============================] - 0s 6ms/step - loss: 15.2711 - mse: 318.1685\n",
      "Epoch 294/500\n",
      "2/2 [==============================] - 0s 5ms/step - loss: 22.7179 - mse: 780.8714\n",
      "Epoch 295/500\n",
      "2/2 [==============================] - 0s 5ms/step - loss: 17.9234 - mse: 458.5730\n",
      "Epoch 296/500\n",
      "2/2 [==============================] - 0s 5ms/step - loss: 6.1743 - mse: 59.0634\n",
      "Epoch 297/500\n",
      "2/2 [==============================] - 0s 5ms/step - loss: 10.9440 - mse: 254.2860\n",
      "Epoch 298/500\n",
      "2/2 [==============================] - 0s 4ms/step - loss: 23.1530 - mse: 785.9870\n",
      "Epoch 299/500\n",
      "2/2 [==============================] - 0s 5ms/step - loss: 17.7331 - mse: 469.9263\n",
      "Epoch 300/500\n",
      "2/2 [==============================] - 0s 5ms/step - loss: 6.9824 - mse: 65.0502\n",
      "Epoch 301/500\n",
      "2/2 [==============================] - 0s 4ms/step - loss: 25.1857 - mse: 898.2781\n",
      "Epoch 302/500\n",
      "2/2 [==============================] - 0s 5ms/step - loss: 8.9025 - mse: 116.0076\n",
      "Epoch 303/500\n",
      "2/2 [==============================] - 0s 5ms/step - loss: 17.7668 - mse: 461.9368\n",
      "Epoch 304/500\n",
      "2/2 [==============================] - 0s 4ms/step - loss: 11.0002 - mse: 173.9247\n",
      "Epoch 305/500\n",
      "2/2 [==============================] - 0s 4ms/step - loss: 12.9191 - mse: 271.8380\n",
      "Epoch 306/500\n",
      "2/2 [==============================] - 0s 5ms/step - loss: 8.4033 - mse: 94.4443\n",
      "Epoch 307/500\n",
      "2/2 [==============================] - 0s 5ms/step - loss: 13.6094 - mse: 279.1170\n",
      "Epoch 308/500\n",
      "2/2 [==============================] - 0s 4ms/step - loss: 7.4404 - mse: 78.3839\n",
      "Epoch 309/500\n",
      "2/2 [==============================] - 0s 4ms/step - loss: 9.4642 - mse: 138.8857\n",
      "Epoch 310/500\n",
      "2/2 [==============================] - 0s 6ms/step - loss: 10.7099 - mse: 198.2184\n",
      "Epoch 311/500\n",
      "2/2 [==============================] - 0s 5ms/step - loss: 13.2814 - mse: 254.2447\n",
      "Epoch 312/500\n",
      "2/2 [==============================] - 0s 5ms/step - loss: 29.9763 - mse: 1241.6276\n",
      "Epoch 313/500\n",
      "2/2 [==============================] - 0s 5ms/step - loss: 7.6304 - mse: 104.4100\n",
      "Epoch 314/500\n",
      "2/2 [==============================] - 0s 4ms/step - loss: 9.9106 - mse: 239.5554\n",
      "Epoch 315/500\n",
      "2/2 [==============================] - 0s 5ms/step - loss: 23.7669 - mse: 820.7440\n",
      "Epoch 316/500\n",
      "2/2 [==============================] - 0s 5ms/step - loss: 16.3936 - mse: 404.4792\n",
      "Epoch 317/500\n",
      "2/2 [==============================] - 0s 5ms/step - loss: 21.0758 - mse: 606.4599\n",
      "Epoch 318/500\n",
      "2/2 [==============================] - 0s 4ms/step - loss: 7.9367 - mse: 81.3764\n",
      "Epoch 319/500\n",
      "2/2 [==============================] - 0s 4ms/step - loss: 17.9731 - mse: 479.6087\n",
      "Epoch 320/500\n",
      "2/2 [==============================] - 0s 5ms/step - loss: 10.2375 - mse: 174.0453\n",
      "Epoch 321/500\n",
      "2/2 [==============================] - 0s 6ms/step - loss: 8.3338 - mse: 110.8492\n",
      "Epoch 322/500\n",
      "2/2 [==============================] - 0s 4ms/step - loss: 5.0621 - mse: 39.6196\n",
      "Epoch 323/500\n",
      "2/2 [==============================] - 0s 5ms/step - loss: 23.5109 - mse: 802.4884\n",
      "Epoch 324/500\n",
      "2/2 [==============================] - 0s 5ms/step - loss: 6.8309 - mse: 57.6745\n",
      "Epoch 325/500\n",
      "2/2 [==============================] - 0s 4ms/step - loss: 16.3862 - mse: 384.4400\n",
      "Epoch 326/500\n",
      "2/2 [==============================] - 0s 5ms/step - loss: 7.5019 - mse: 78.7650\n",
      "Epoch 327/500\n",
      "2/2 [==============================] - 0s 5ms/step - loss: 20.0573 - mse: 568.8232\n",
      "Epoch 328/500\n",
      "2/2 [==============================] - 0s 4ms/step - loss: 13.7661 - mse: 265.8647\n",
      "Epoch 329/500\n",
      "2/2 [==============================] - 0s 5ms/step - loss: 16.8282 - mse: 430.9923\n",
      "Epoch 330/500\n",
      "2/2 [==============================] - 0s 6ms/step - loss: 7.0514 - mse: 81.9922\n",
      "Epoch 331/500\n",
      "2/2 [==============================] - 0s 4ms/step - loss: 21.4845 - mse: 704.3913\n",
      "Epoch 332/500\n",
      "2/2 [==============================] - 0s 6ms/step - loss: 12.2880 - mse: 236.5700\n",
      "Epoch 333/500\n",
      "2/2 [==============================] - 0s 5ms/step - loss: 11.8117 - mse: 222.0918\n",
      "Epoch 334/500\n",
      "2/2 [==============================] - 0s 4ms/step - loss: 8.3600 - mse: 169.8893\n",
      "Epoch 335/500\n",
      "2/2 [==============================] - 0s 5ms/step - loss: 12.4833 - mse: 276.8586\n",
      "Epoch 336/500\n",
      "2/2 [==============================] - 0s 5ms/step - loss: 32.2171 - mse: 1416.1729\n",
      "Epoch 337/500\n",
      "2/2 [==============================] - 0s 4ms/step - loss: 10.4477 - mse: 180.3259\n",
      "Epoch 338/500\n",
      "2/2 [==============================] - 0s 5ms/step - loss: 19.6832 - mse: 573.4713\n",
      "Epoch 339/500\n",
      "2/2 [==============================] - 0s 4ms/step - loss: 35.0762 - mse: 1849.1527\n",
      "Epoch 340/500\n",
      "2/2 [==============================] - 0s 4ms/step - loss: 10.4192 - mse: 181.4143\n",
      "Epoch 341/500\n",
      "2/2 [==============================] - 0s 6ms/step - loss: 9.7625 - mse: 156.3228\n",
      "Epoch 342/500\n",
      "2/2 [==============================] - 0s 4ms/step - loss: 11.9500 - mse: 188.5580\n",
      "Epoch 343/500\n",
      "2/2 [==============================] - 0s 5ms/step - loss: 9.3943 - mse: 145.3950\n",
      "Epoch 344/500\n",
      "2/2 [==============================] - 0s 5ms/step - loss: 5.6071 - mse: 44.6762\n",
      "Epoch 345/500\n",
      "2/2 [==============================] - 0s 4ms/step - loss: 37.4875 - mse: 2291.7764\n",
      "Epoch 346/500\n",
      "2/2 [==============================] - 0s 5ms/step - loss: 16.8830 - mse: 411.1348\n",
      "Epoch 347/500\n"
     ]
    },
    {
     "name": "stdout",
     "output_type": "stream",
     "text": [
      "2/2 [==============================] - 0s 5ms/step - loss: 12.8748 - mse: 281.5980\n",
      "Epoch 348/500\n",
      "2/2 [==============================] - 0s 5ms/step - loss: 8.1960 - mse: 162.6962\n",
      "Epoch 349/500\n",
      "2/2 [==============================] - 0s 4ms/step - loss: 13.5568 - mse: 261.1368\n",
      "Epoch 350/500\n",
      "2/2 [==============================] - 0s 5ms/step - loss: 15.4354 - mse: 333.2083\n",
      "Epoch 351/500\n",
      "2/2 [==============================] - 0s 5ms/step - loss: 32.9626 - mse: 1524.7935\n",
      "Epoch 352/500\n",
      "2/2 [==============================] - 0s 5ms/step - loss: 14.2040 - mse: 282.7507\n",
      "Epoch 353/500\n",
      "2/2 [==============================] - 0s 5ms/step - loss: 15.9196 - mse: 374.1918\n",
      "Epoch 354/500\n",
      "2/2 [==============================] - 0s 5ms/step - loss: 19.0878 - mse: 534.9774\n",
      "Epoch 355/500\n",
      "2/2 [==============================] - 0s 5ms/step - loss: 34.1178 - mse: 1782.6998\n",
      "Epoch 356/500\n",
      "2/2 [==============================] - 0s 6ms/step - loss: 7.6798 - mse: 90.9116\n",
      "Epoch 357/500\n",
      "2/2 [==============================] - 0s 5ms/step - loss: 25.2286 - mse: 974.0931\n",
      "Epoch 358/500\n",
      "2/2 [==============================] - 0s 5ms/step - loss: 22.6758 - mse: 742.0924\n",
      "Epoch 359/500\n",
      "2/2 [==============================] - 0s 6ms/step - loss: 8.8765 - mse: 198.2588\n",
      "Epoch 360/500\n",
      "2/2 [==============================] - 0s 5ms/step - loss: 21.4710 - mse: 687.3281\n",
      "Epoch 361/500\n",
      "2/2 [==============================] - 0s 5ms/step - loss: 20.6073 - mse: 616.7935\n",
      "Epoch 362/500\n",
      "2/2 [==============================] - 0s 5ms/step - loss: 7.0611 - mse: 69.3817\n",
      "Epoch 363/500\n",
      "2/2 [==============================] - 0s 5ms/step - loss: 25.8116 - mse: 994.8175\n",
      "Epoch 364/500\n",
      "2/2 [==============================] - 0s 5ms/step - loss: 32.2247 - mse: 1527.6045\n",
      "Epoch 365/500\n",
      "2/2 [==============================] - 0s 5ms/step - loss: 10.0204 - mse: 161.6846\n",
      "Epoch 366/500\n",
      "2/2 [==============================] - 0s 6ms/step - loss: 9.6722 - mse: 227.5721\n",
      "Epoch 367/500\n",
      "2/2 [==============================] - 0s 6ms/step - loss: 30.4171 - mse: 1294.6049\n",
      "Epoch 368/500\n",
      "2/2 [==============================] - 0s 4ms/step - loss: 10.5020 - mse: 236.3133\n",
      "Epoch 369/500\n",
      "2/2 [==============================] - 0s 4ms/step - loss: 14.9909 - mse: 330.8545\n",
      "Epoch 370/500\n",
      "2/2 [==============================] - 0s 5ms/step - loss: 14.6580 - mse: 308.0738\n",
      "Epoch 371/500\n",
      "2/2 [==============================] - 0s 5ms/step - loss: 23.3672 - mse: 789.0359\n",
      "Epoch 372/500\n",
      "2/2 [==============================] - 0s 5ms/step - loss: 13.1025 - mse: 290.2267\n",
      "Epoch 373/500\n",
      "2/2 [==============================] - 0s 6ms/step - loss: 9.2586 - mse: 140.7051\n",
      "Epoch 374/500\n",
      "2/2 [==============================] - 0s 5ms/step - loss: 9.6648 - mse: 194.1145\n",
      "Epoch 375/500\n",
      "2/2 [==============================] - 0s 5ms/step - loss: 13.0041 - mse: 237.9869\n",
      "Epoch 376/500\n",
      "2/2 [==============================] - 0s 6ms/step - loss: 14.8863 - mse: 324.7540\n",
      "Epoch 377/500\n",
      "2/2 [==============================] - 0s 5ms/step - loss: 14.7932 - mse: 297.2057\n",
      "Epoch 378/500\n",
      "2/2 [==============================] - 0s 5ms/step - loss: 16.2751 - mse: 418.5637\n",
      "Epoch 379/500\n",
      "2/2 [==============================] - 0s 6ms/step - loss: 20.8307 - mse: 596.8138\n",
      "Epoch 380/500\n",
      "2/2 [==============================] - 0s 5ms/step - loss: 33.5317 - mse: 1684.8918\n",
      "Epoch 381/500\n",
      "2/2 [==============================] - 0s 6ms/step - loss: 8.2166 - mse: 100.6384\n",
      "Epoch 382/500\n",
      "2/2 [==============================] - 0s 5ms/step - loss: 13.0959 - mse: 282.0379\n",
      "Epoch 383/500\n",
      "2/2 [==============================] - 0s 5ms/step - loss: 8.3999 - mse: 126.0928\n",
      "Epoch 384/500\n",
      "2/2 [==============================] - 0s 5ms/step - loss: 7.1283 - mse: 72.4398\n",
      "Epoch 385/500\n",
      "2/2 [==============================] - 0s 5ms/step - loss: 10.9391 - mse: 249.4374\n",
      "Epoch 386/500\n",
      "2/2 [==============================] - 0s 5ms/step - loss: 19.7654 - mse: 601.5798\n",
      "Epoch 387/500\n",
      "2/2 [==============================] - 0s 6ms/step - loss: 24.8625 - mse: 896.3683\n",
      "Epoch 388/500\n",
      "2/2 [==============================] - 0s 6ms/step - loss: 8.7422 - mse: 128.0916\n",
      "Epoch 389/500\n",
      "2/2 [==============================] - 0s 6ms/step - loss: 5.9488 - mse: 48.1567\n",
      "Epoch 390/500\n",
      "2/2 [==============================] - 0s 5ms/step - loss: 24.4400 - mse: 881.1032\n",
      "Epoch 391/500\n",
      "2/2 [==============================] - 0s 5ms/step - loss: 5.9771 - mse: 73.2800\n",
      "Epoch 392/500\n",
      "2/2 [==============================] - 0s 5ms/step - loss: 16.3250 - mse: 379.2591\n",
      "Epoch 393/500\n",
      "2/2 [==============================] - 0s 5ms/step - loss: 6.0917 - mse: 76.7833\n",
      "Epoch 394/500\n",
      "2/2 [==============================] - 0s 5ms/step - loss: 11.0963 - mse: 204.7649\n",
      "Epoch 395/500\n",
      "2/2 [==============================] - 0s 7ms/step - loss: 14.9601 - mse: 336.1562\n",
      "Epoch 396/500\n",
      "2/2 [==============================] - 0s 6ms/step - loss: 7.6462 - mse: 103.3248\n",
      "Epoch 397/500\n",
      "2/2 [==============================] - 0s 5ms/step - loss: 8.7654 - mse: 136.5433\n",
      "Epoch 398/500\n",
      "2/2 [==============================] - 0s 5ms/step - loss: 14.5991 - mse: 320.4535\n",
      "Epoch 399/500\n",
      "2/2 [==============================] - 0s 5ms/step - loss: 11.3166 - mse: 280.6888\n",
      "Epoch 400/500\n",
      "2/2 [==============================] - 0s 6ms/step - loss: 21.9080 - mse: 741.3464\n",
      "Epoch 401/500\n",
      "2/2 [==============================] - 0s 4ms/step - loss: 14.8653 - mse: 348.6718\n",
      "Epoch 402/500\n",
      "2/2 [==============================] - 0s 5ms/step - loss: 8.4970 - mse: 115.5853\n",
      "Epoch 403/500\n",
      "2/2 [==============================] - 0s 5ms/step - loss: 10.3957 - mse: 191.0401\n",
      "Epoch 404/500\n",
      "2/2 [==============================] - 0s 6ms/step - loss: 10.2556 - mse: 207.5717\n",
      "Epoch 405/500\n",
      "2/2 [==============================] - 0s 5ms/step - loss: 6.3392 - mse: 68.2858\n",
      "Epoch 406/500\n",
      "2/2 [==============================] - 0s 4ms/step - loss: 17.4602 - mse: 460.2043\n",
      "Epoch 407/500\n",
      "2/2 [==============================] - 0s 5ms/step - loss: 11.4627 - mse: 284.7274\n",
      "Epoch 408/500\n",
      "2/2 [==============================] - 0s 5ms/step - loss: 20.7294 - mse: 662.1503\n",
      "Epoch 409/500\n",
      "2/2 [==============================] - 0s 4ms/step - loss: 31.3338 - mse: 1522.7656\n",
      "Epoch 410/500\n",
      "2/2 [==============================] - 0s 5ms/step - loss: 9.2542 - mse: 221.9485\n",
      "Epoch 411/500\n",
      "2/2 [==============================] - 0s 6ms/step - loss: 14.8621 - mse: 285.8416\n",
      "Epoch 412/500\n",
      "2/2 [==============================] - 0s 4ms/step - loss: 21.7182 - mse: 721.0394\n",
      "Epoch 413/500\n",
      "2/2 [==============================] - 0s 4ms/step - loss: 12.6615 - mse: 248.9690\n",
      "Epoch 414/500\n",
      "2/2 [==============================] - 0s 7ms/step - loss: 6.0687 - mse: 88.3708\n",
      "Epoch 415/500\n",
      "2/2 [==============================] - 0s 4ms/step - loss: 13.2201 - mse: 239.8954\n",
      "Epoch 416/500\n",
      "2/2 [==============================] - 0s 4ms/step - loss: 27.4244 - mse: 1037.9583\n",
      "Epoch 417/500\n",
      "2/2 [==============================] - 0s 6ms/step - loss: 10.6407 - mse: 207.4817\n",
      "Epoch 418/500\n",
      "2/2 [==============================] - 0s 4ms/step - loss: 12.8230 - mse: 236.7908\n",
      "Epoch 419/500\n",
      "2/2 [==============================] - 0s 4ms/step - loss: 15.8836 - mse: 374.5485\n",
      "Epoch 420/500\n",
      "2/2 [==============================] - 0s 7ms/step - loss: 24.7510 - mse: 849.5333\n",
      "Epoch 421/500\n",
      "2/2 [==============================] - 0s 4ms/step - loss: 17.3753 - mse: 444.1824\n",
      "Epoch 422/500\n",
      "2/2 [==============================] - 0s 4ms/step - loss: 7.8241 - mse: 157.5325\n",
      "Epoch 423/500\n",
      "2/2 [==============================] - 0s 6ms/step - loss: 25.3789 - mse: 907.6143\n",
      "Epoch 424/500\n",
      "2/2 [==============================] - 0s 5ms/step - loss: 15.1031 - mse: 369.3286\n",
      "Epoch 425/500\n",
      "2/2 [==============================] - 0s 6ms/step - loss: 7.1643 - mse: 75.3717\n",
      "Epoch 426/500\n",
      "2/2 [==============================] - 0s 5ms/step - loss: 20.3318 - mse: 572.0346\n",
      "Epoch 427/500\n",
      "2/2 [==============================] - 0s 6ms/step - loss: 6.3283 - mse: 84.9745\n",
      "Epoch 428/500\n",
      "2/2 [==============================] - 0s 5ms/step - loss: 12.9961 - mse: 288.4217\n",
      "Epoch 429/500\n",
      "2/2 [==============================] - 0s 4ms/step - loss: 10.7869 - mse: 192.7740\n",
      "Epoch 430/500\n",
      "2/2 [==============================] - 0s 6ms/step - loss: 11.4007 - mse: 248.2723\n",
      "Epoch 431/500\n"
     ]
    },
    {
     "name": "stdout",
     "output_type": "stream",
     "text": [
      "2/2 [==============================] - 0s 4ms/step - loss: 10.6152 - mse: 218.3397\n",
      "Epoch 432/500\n",
      "2/2 [==============================] - 0s 4ms/step - loss: 11.4582 - mse: 239.2196\n",
      "Epoch 433/500\n",
      "2/2 [==============================] - 0s 5ms/step - loss: 11.3851 - mse: 296.6779\n",
      "Epoch 434/500\n",
      "2/2 [==============================] - 0s 4ms/step - loss: 30.3986 - mse: 1296.5636\n",
      "Epoch 435/500\n",
      "2/2 [==============================] - 0s 5ms/step - loss: 10.5052 - mse: 283.6810\n",
      "Epoch 436/500\n",
      "2/2 [==============================] - 0s 6ms/step - loss: 28.8810 - mse: 1216.2339\n",
      "Epoch 437/500\n",
      "2/2 [==============================] - 0s 6ms/step - loss: 8.5916 - mse: 209.5432\n",
      "Epoch 438/500\n",
      "2/2 [==============================] - 0s 5ms/step - loss: 12.7378 - mse: 264.4509\n",
      "Epoch 439/500\n",
      "2/2 [==============================] - 0s 5ms/step - loss: 33.6754 - mse: 1570.2361\n",
      "Epoch 440/500\n",
      "2/2 [==============================] - 0s 6ms/step - loss: 15.0963 - mse: 294.7132\n",
      "Epoch 441/500\n",
      "2/2 [==============================] - 0s 6ms/step - loss: 17.4814 - mse: 487.0573\n",
      "Epoch 442/500\n",
      "2/2 [==============================] - 0s 4ms/step - loss: 22.3049 - mse: 750.9306\n",
      "Epoch 443/500\n",
      "2/2 [==============================] - 0s 5ms/step - loss: 23.5841 - mse: 784.1376\n",
      "Epoch 444/500\n",
      "2/2 [==============================] - 0s 6ms/step - loss: 11.0008 - mse: 203.7582\n",
      "Epoch 445/500\n",
      "2/2 [==============================] - 0s 5ms/step - loss: 14.9175 - mse: 316.4790\n",
      "Epoch 446/500\n",
      "2/2 [==============================] - 0s 5ms/step - loss: 17.9979 - mse: 515.1713\n",
      "Epoch 447/500\n",
      "2/2 [==============================] - 0s 5ms/step - loss: 5.4482 - mse: 51.4485\n",
      "Epoch 448/500\n",
      "2/2 [==============================] - 0s 6ms/step - loss: 10.0527 - mse: 253.4829\n",
      "Epoch 449/500\n",
      "2/2 [==============================] - 0s 5ms/step - loss: 14.0052 - mse: 277.3353\n",
      "Epoch 450/500\n",
      "2/2 [==============================] - 0s 6ms/step - loss: 16.7782 - mse: 424.4229\n",
      "Epoch 451/500\n",
      "2/2 [==============================] - 0s 5ms/step - loss: 14.2937 - mse: 303.4479\n",
      "Epoch 452/500\n",
      "2/2 [==============================] - 0s 6ms/step - loss: 30.6193 - mse: 1329.8269\n",
      "Epoch 453/500\n",
      "2/2 [==============================] - 0s 5ms/step - loss: 7.6541 - mse: 159.0376\n",
      "Epoch 454/500\n",
      "2/2 [==============================] - 0s 5ms/step - loss: 28.1428 - mse: 1104.4142\n",
      "Epoch 455/500\n",
      "2/2 [==============================] - 0s 6ms/step - loss: 8.0017 - mse: 119.3274\n",
      "Epoch 456/500\n",
      "2/2 [==============================] - 0s 5ms/step - loss: 10.3933 - mse: 289.6391\n",
      "Epoch 457/500\n",
      "2/2 [==============================] - 0s 5ms/step - loss: 15.0242 - mse: 318.3535\n",
      "Epoch 458/500\n",
      "2/2 [==============================] - 0s 5ms/step - loss: 16.5653 - mse: 439.8008\n",
      "Epoch 459/500\n",
      "2/2 [==============================] - 0s 6ms/step - loss: 26.8566 - mse: 1033.5487\n",
      "Epoch 460/500\n",
      "2/2 [==============================] - 0s 5ms/step - loss: 12.4852 - mse: 251.1161\n",
      "Epoch 461/500\n",
      "2/2 [==============================] - 0s 6ms/step - loss: 12.4784 - mse: 272.9071\n",
      "Epoch 462/500\n",
      "2/2 [==============================] - 0s 5ms/step - loss: 13.3186 - mse: 245.2335\n",
      "Epoch 463/500\n",
      "2/2 [==============================] - 0s 5ms/step - loss: 29.5524 - mse: 1219.8660\n",
      "Epoch 464/500\n",
      "2/2 [==============================] - 0s 5ms/step - loss: 3.4664 - mse: 22.0145\n",
      "Epoch 465/500\n",
      "2/2 [==============================] - 0s 5ms/step - loss: 15.2136 - mse: 352.9369\n",
      "Epoch 466/500\n",
      "2/2 [==============================] - 0s 5ms/step - loss: 20.8327 - mse: 651.1592\n",
      "Epoch 467/500\n",
      "2/2 [==============================] - 0s 5ms/step - loss: 30.5108 - mse: 1421.0016\n",
      "Epoch 468/500\n",
      "2/2 [==============================] - 0s 4ms/step - loss: 11.0597 - mse: 236.2266\n",
      "Epoch 469/500\n",
      "2/2 [==============================] - 0s 5ms/step - loss: 12.8372 - mse: 278.2046\n",
      "Epoch 470/500\n",
      "2/2 [==============================] - 0s 5ms/step - loss: 3.2398 - mse: 14.0655\n",
      "Epoch 471/500\n",
      "2/2 [==============================] - 0s 5ms/step - loss: 16.6964 - mse: 372.9565\n",
      "Epoch 472/500\n",
      "2/2 [==============================] - 0s 4ms/step - loss: 13.3883 - mse: 253.4232\n",
      "Epoch 473/500\n",
      "2/2 [==============================] - 0s 5ms/step - loss: 15.2771 - mse: 396.6107\n",
      "Epoch 474/500\n",
      "2/2 [==============================] - 0s 5ms/step - loss: 11.7448 - mse: 305.3250\n",
      "Epoch 475/500\n",
      "2/2 [==============================] - 0s 6ms/step - loss: 16.4113 - mse: 397.1612\n",
      "Epoch 476/500\n",
      "2/2 [==============================] - 0s 5ms/step - loss: 13.8785 - mse: 273.7976\n",
      "Epoch 477/500\n",
      "2/2 [==============================] - 0s 5ms/step - loss: 30.6702 - mse: 1309.4624\n",
      "Epoch 478/500\n",
      "2/2 [==============================] - 0s 4ms/step - loss: 8.5880 - mse: 188.9073\n",
      "Epoch 479/500\n",
      "2/2 [==============================] - 0s 4ms/step - loss: 10.7384 - mse: 261.5204\n",
      "Epoch 480/500\n",
      "2/2 [==============================] - 0s 4ms/step - loss: 17.9051 - mse: 484.4154\n",
      "Epoch 481/500\n",
      "2/2 [==============================] - 0s 4ms/step - loss: 15.8095 - mse: 368.1043\n",
      "Epoch 482/500\n",
      "2/2 [==============================] - 0s 4ms/step - loss: 21.3054 - mse: 698.1634\n",
      "Epoch 483/500\n",
      "2/2 [==============================] - 0s 5ms/step - loss: 25.3845 - mse: 955.1252\n",
      "Epoch 484/500\n",
      "2/2 [==============================] - 0s 5ms/step - loss: 23.9815 - mse: 811.2783\n",
      "Epoch 485/500\n",
      "2/2 [==============================] - 0s 4ms/step - loss: 5.7734 - mse: 53.7612\n",
      "Epoch 486/500\n",
      "2/2 [==============================] - 0s 6ms/step - loss: 20.0010 - mse: 565.2875\n",
      "Epoch 487/500\n",
      "2/2 [==============================] - 0s 5ms/step - loss: 14.0419 - mse: 286.2685\n",
      "Epoch 488/500\n",
      "2/2 [==============================] - 0s 4ms/step - loss: 30.6088 - mse: 1334.5731\n",
      "Epoch 489/500\n",
      "2/2 [==============================] - 0s 9ms/step - loss: 11.9409 - mse: 237.4729\n",
      "Epoch 490/500\n",
      "2/2 [==============================] - 0s 4ms/step - loss: 12.7352 - mse: 252.5674\n",
      "Epoch 491/500\n",
      "2/2 [==============================] - 0s 4ms/step - loss: 23.6139 - mse: 837.7737\n",
      "Epoch 492/500\n",
      "2/2 [==============================] - 0s 5ms/step - loss: 20.5365 - mse: 592.2180\n",
      "Epoch 493/500\n",
      "2/2 [==============================] - 0s 4ms/step - loss: 4.9942 - mse: 48.0282\n",
      "Epoch 494/500\n",
      "2/2 [==============================] - 0s 4ms/step - loss: 12.7986 - mse: 247.7643\n",
      "Epoch 495/500\n",
      "2/2 [==============================] - 0s 4ms/step - loss: 13.3772 - mse: 239.0903\n",
      "Epoch 496/500\n",
      "2/2 [==============================] - 0s 6ms/step - loss: 12.6727 - mse: 241.5637\n",
      "Epoch 497/500\n",
      "2/2 [==============================] - 0s 5ms/step - loss: 17.6192 - mse: 515.3862\n",
      "Epoch 498/500\n",
      "2/2 [==============================] - 0s 4ms/step - loss: 23.5629 - mse: 816.5493\n",
      "Epoch 499/500\n",
      "2/2 [==============================] - 0s 5ms/step - loss: 9.3755 - mse: 136.1005\n",
      "Epoch 500/500\n",
      "2/2 [==============================] - 0s 6ms/step - loss: 14.6316 - mse: 295.2645\n"
     ]
    },
    {
     "data": {
      "text/plain": [
       "<keras.callbacks.History at 0x2af8c6940>"
      ]
     },
     "execution_count": 104,
     "metadata": {},
     "output_type": "execute_result"
    }
   ],
   "source": [
    "# Build model_3\n",
    "tf.random.set_seed(42)\n",
    "\n",
    "model_3 = tf.keras.Sequential([\n",
    "    tf.keras.layers.Dense(10),\n",
    "    tf.keras.layers.Dense(1)\n",
    "])\n",
    "\n",
    "model_3.compile(loss = tf.keras.losses.mae,\n",
    "             optimizer = tf.keras.optimizers.SGD(),\n",
    "             metrics = ['mse'])\n",
    "\n",
    "model_3.fit(tf.expand_dims(x_train, axis = -1), y_train, epochs = 500)"
   ]
  },
  {
   "cell_type": "code",
   "execution_count": 105,
   "id": "224d0594",
   "metadata": {
    "scrolled": false
   },
   "outputs": [
    {
     "name": "stdout",
     "output_type": "stream",
     "text": [
      "1/1 [==============================] - 0s 32ms/step\n"
     ]
    },
    {
     "name": "stderr",
     "output_type": "stream",
     "text": [
      "2022-08-16 18:43:26.399683: I tensorflow/core/grappler/optimizers/custom_graph_optimizer_registry.cc:113] Plugin optimizer for device_type GPU is enabled.\n"
     ]
    },
    {
     "data": {
      "image/png": "[encoded data removed]",
      "text/plain": [
       "<Figure size 720x504 with 1 Axes>"
      ]
     },
     "metadata": {
      "needs_background": "light"
     },
     "output_type": "display_data"
    }
   ],
   "source": [
    "# make and plot predictions for model_3\n",
    "y_pred_3 = model_3.predict(x_test)\n",
    "plot_predictions(predictions = y_pred_3)\n",
    "\n",
    "# overfitting"
   ]
  },
  {
   "cell_type": "code",
   "execution_count": 99,
   "id": "d244db0a",
   "metadata": {},
   "outputs": [
    {
     "data": {
      "text/plain": [
       "(<tf.Tensor: shape=(), dtype=float32, numpy=68.713615>,\n",
       " <tf.Tensor: shape=(), dtype=float32, numpy=4808.029>)"
      ]
     },
     "execution_count": 99,
     "metadata": {},
     "output_type": "execute_result"
    }
   ],
   "source": [
    "# Calculate model_3 evaluation metrics\n",
    "mae_3 = mae(y_test, y_pred_3)\n",
    "mse_3 = mse(y_test, y_pred_3)\n",
    "mae_3, mse_3"
   ]
  },
  {
   "cell_type": "markdown",
   "id": "3c32843f",
   "metadata": {},
   "source": [
    "## Comparing the results of our experiments"
   ]
  },
  {
   "cell_type": "code",
   "execution_count": 107,
   "id": "29cd1f53",
   "metadata": {},
   "outputs": [
    {
     "data": {
      "text/html": [
       "<div>\n",
       "<style scoped>\n",
       "    .dataframe tbody tr th:only-of-type {\n",
       "        vertical-align: middle;\n",
       "    }\n",
       "\n",
       "    .dataframe tbody tr th {\n",
       "        vertical-align: top;\n",
       "    }\n",
       "\n",
       "    .dataframe thead th {\n",
       "        text-align: right;\n",
       "    }\n",
       "</style>\n",
       "<table border=\"1\" class=\"dataframe\">\n",
       "  <thead>\n",
       "    <tr style=\"text-align: right;\">\n",
       "      <th></th>\n",
       "      <th>model</th>\n",
       "      <th>mae</th>\n",
       "      <th>mse</th>\n",
       "    </tr>\n",
       "  </thead>\n",
       "  <tbody>\n",
       "    <tr>\n",
       "      <th>0</th>\n",
       "      <td>model_1</td>\n",
       "      <td>18.745329</td>\n",
       "      <td>353.573364</td>\n",
       "    </tr>\n",
       "    <tr>\n",
       "      <th>1</th>\n",
       "      <td>model_2</td>\n",
       "      <td>3.196933</td>\n",
       "      <td>13.070086</td>\n",
       "    </tr>\n",
       "    <tr>\n",
       "      <th>2</th>\n",
       "      <td>model_3</td>\n",
       "      <td>68.713615</td>\n",
       "      <td>4808.028809</td>\n",
       "    </tr>\n",
       "  </tbody>\n",
       "</table>\n",
       "</div>"
      ],
      "text/plain": [
       "     model        mae          mse\n",
       "0  model_1  18.745329   353.573364\n",
       "1  model_2   3.196933    13.070086\n",
       "2  model_3  68.713615  4808.028809"
      ]
     },
     "execution_count": 107,
     "metadata": {},
     "output_type": "execute_result"
    }
   ],
   "source": [
    "# Let's compare our model's results using a pandas dataframe\n",
    "import pandas as pd\n",
    "\n",
    "model_results = [['model_1', mae_1.numpy(), mse_1.numpy()],\n",
    "                ['model_2', mae_2.numpy(), mse_2.numpy()],\n",
    "                ['model_3', mae_3.numpy(), mse_3.numpy()]]\n",
    "\n",
    "all_results = pd.DataFrame(model_results, columns = ['model', 'mae', 'mse'])\n",
    "all_results"
   ]
  },
  {
   "cell_type": "code",
   "execution_count": null,
   "id": "8790d5d1",
   "metadata": {},
   "outputs": [],
   "source": [
    "# Looks like model_2 performed the best"
   ]
  },
  {
   "cell_type": "code",
   "execution_count": 108,
   "id": "a6f9c8d7",
   "metadata": {},
   "outputs": [
    {
     "name": "stdout",
     "output_type": "stream",
     "text": [
      "Model: \"sequential_8\"\n",
      "_________________________________________________________________\n",
      " Layer (type)                Output Shape              Param #   \n",
      "=================================================================\n",
      " dense_12 (Dense)            (None, 10)                20        \n",
      "                                                                 \n",
      " dense_13 (Dense)            (None, 1)                 11        \n",
      "                                                                 \n",
      "=================================================================\n",
      "Total params: 31\n",
      "Trainable params: 31\n",
      "Non-trainable params: 0\n",
      "_________________________________________________________________\n"
     ]
    }
   ],
   "source": [
    "model_2.summary()"
   ]
  },
  {
   "cell_type": "markdown",
   "id": "6a4d3fe2",
   "metadata": {},
   "source": [
    "## Tracking your experiments\n",
    "\n"
   ]
  },
  {
   "cell_type": "markdown",
   "id": "ae832984",
   "metadata": {},
   "source": [
    "# Saving our models\n",
    "\n",
    "    1. SavedModel\n",
    "    2. HDF5"
   ]
  },
  {
   "cell_type": "code",
   "execution_count": 109,
   "id": "094ba789",
   "metadata": {},
   "outputs": [
    {
     "name": "stdout",
     "output_type": "stream",
     "text": [
      "INFO:tensorflow:Assets written to: best_model_SaveModel_format/assets\n"
     ]
    }
   ],
   "source": [
    "# Save model using the SavedModel format\n",
    "\n",
    "model_2.save('best_model_SaveModel_format')"
   ]
  },
  {
   "cell_type": "code",
   "execution_count": 111,
   "id": "47277ee7",
   "metadata": {},
   "outputs": [],
   "source": [
    "# Svae model using the HDF5 format\n",
    "model_2.save('best_model_HDF5_format.h5')"
   ]
  },
  {
   "cell_type": "markdown",
   "id": "4ab181d7",
   "metadata": {},
   "source": [
    "# Loading in a saved model"
   ]
  },
  {
   "cell_type": "code",
   "execution_count": 113,
   "id": "3ab52c31",
   "metadata": {},
   "outputs": [
    {
     "name": "stdout",
     "output_type": "stream",
     "text": [
      "Model: \"sequential_8\"\n",
      "_________________________________________________________________\n",
      " Layer (type)                Output Shape              Param #   \n",
      "=================================================================\n",
      " dense_12 (Dense)            (None, 10)                20        \n",
      "                                                                 \n",
      " dense_13 (Dense)            (None, 1)                 11        \n",
      "                                                                 \n",
      "=================================================================\n",
      "Total params: 31\n",
      "Trainable params: 31\n",
      "Non-trainable params: 0\n",
      "_________________________________________________________________\n"
     ]
    }
   ],
   "source": [
    "# Load in the SavedModel format model\n",
    "loaded_SavedModel_format = tf.keras.models.load_model('best_model_SaveModel_format')\n",
    "loaded_SavedModel_format.summary()\n",
    "\n",
    "# Same as model_2"
   ]
  },
  {
   "cell_type": "code",
   "execution_count": 114,
   "id": "e542ba26",
   "metadata": {},
   "outputs": [
    {
     "name": "stdout",
     "output_type": "stream",
     "text": [
      "Model: \"sequential_8\"\n",
      "_________________________________________________________________\n",
      " Layer (type)                Output Shape              Param #   \n",
      "=================================================================\n",
      " dense_12 (Dense)            (None, 10)                20        \n",
      "                                                                 \n",
      " dense_13 (Dense)            (None, 1)                 11        \n",
      "                                                                 \n",
      "=================================================================\n",
      "Total params: 31\n",
      "Trainable params: 31\n",
      "Non-trainable params: 0\n",
      "_________________________________________________________________\n"
     ]
    }
   ],
   "source": [
    "model_2.summary()"
   ]
  },
  {
   "cell_type": "code",
   "execution_count": 116,
   "id": "d651998a",
   "metadata": {},
   "outputs": [
    {
     "name": "stdout",
     "output_type": "stream",
     "text": [
      "1/1 [==============================] - 0s 10ms/step\n",
      "1/1 [==============================] - 0s 36ms/step\n"
     ]
    },
    {
     "name": "stderr",
     "output_type": "stream",
     "text": [
      "2022-08-16 23:44:33.684035: I tensorflow/core/grappler/optimizers/custom_graph_optimizer_registry.cc:113] Plugin optimizer for device_type GPU is enabled.\n"
     ]
    },
    {
     "data": {
      "text/plain": [
       "array([[ True],\n",
       "       [ True],\n",
       "       [ True],\n",
       "       [ True],\n",
       "       [ True],\n",
       "       [ True],\n",
       "       [ True],\n",
       "       [ True],\n",
       "       [ True],\n",
       "       [ True]])"
      ]
     },
     "execution_count": 116,
     "metadata": {},
     "output_type": "execute_result"
    }
   ],
   "source": [
    "# Compare model_2 predictions with savedmodel format model predictions\n",
    "model_2_pred = model_2.predict(x_test)\n",
    "loaded_SavedModel_format_pred = loaded_SavedModel_format.predict(x_test)\n",
    "\n",
    "model_2_pred == loaded_SavedModel_format_pred"
   ]
  },
  {
   "cell_type": "code",
   "execution_count": 117,
   "id": "7b72ebdd",
   "metadata": {},
   "outputs": [
    {
     "name": "stdout",
     "output_type": "stream",
     "text": [
      "Model: \"sequential_8\"\n",
      "_________________________________________________________________\n",
      " Layer (type)                Output Shape              Param #   \n",
      "=================================================================\n",
      " dense_12 (Dense)            (None, 10)                20        \n",
      "                                                                 \n",
      " dense_13 (Dense)            (None, 1)                 11        \n",
      "                                                                 \n",
      "=================================================================\n",
      "Total params: 31\n",
      "Trainable params: 31\n",
      "Non-trainable params: 0\n",
      "_________________________________________________________________\n"
     ]
    }
   ],
   "source": [
    "# Load in a model using the .h5 format\n",
    "loaded_h5_model = tf.keras.models.load_model('best_model_HDF5_format.h5')\n",
    "loaded_h5_model.summary()"
   ]
  },
  {
   "cell_type": "code",
   "execution_count": 118,
   "id": "a6bdf1c7",
   "metadata": {},
   "outputs": [
    {
     "name": "stdout",
     "output_type": "stream",
     "text": [
      "1/1 [==============================] - 0s 37ms/step\n"
     ]
    },
    {
     "name": "stderr",
     "output_type": "stream",
     "text": [
      "2022-08-16 23:49:53.152802: I tensorflow/core/grappler/optimizers/custom_graph_optimizer_registry.cc:113] Plugin optimizer for device_type GPU is enabled.\n"
     ]
    },
    {
     "data": {
      "text/plain": [
       "array([[ True],\n",
       "       [ True],\n",
       "       [ True],\n",
       "       [ True],\n",
       "       [ True],\n",
       "       [ True],\n",
       "       [ True],\n",
       "       [ True],\n",
       "       [ True],\n",
       "       [ True]])"
      ]
     },
     "execution_count": 118,
     "metadata": {},
     "output_type": "execute_result"
    }
   ],
   "source": [
    "# Compare model_2 predictions with .h5 format model predictions\n",
    "\n",
    "loaded_h5_model_pred = loaded_h5_model.predict(x_test)\n",
    "model_2_pred == loaded_h5_model_pred"
   ]
  }
 ],
 "metadata": {
  "kernelspec": {
   "display_name": "Python 3 (ipykernel)",
   "language": "python",
   "name": "python3"
  },
  "language_info": {
   "codemirror_mode": {
    "name": "ipython",
    "version": 3
   },
   "file_extension": ".py",
   "mimetype": "text/x-python",
   "name": "python",
   "nbconvert_exporter": "python",
   "pygments_lexer": "ipython3",
   "version": "3.9.12"
  }
 },
 "nbformat": 4,
 "nbformat_minor": 5
}
